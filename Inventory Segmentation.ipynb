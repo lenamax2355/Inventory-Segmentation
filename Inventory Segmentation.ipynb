{
 "cells": [
  {
   "cell_type": "markdown",
   "metadata": {},
   "source": [
    "# Importing the Data"
   ]
  },
  {
   "cell_type": "code",
   "execution_count": 1,
   "metadata": {},
   "outputs": [],
   "source": [
    "import pandas as pd\n",
    "import numpy as np\n",
    "import matplotlib.pyplot as plt\n",
    "from pandas import ExcelWriter\n",
    "from pandas import ExcelFile"
   ]
  },
  {
   "cell_type": "code",
   "execution_count": 2,
   "metadata": {},
   "outputs": [],
   "source": [
    "excel = pd.ExcelFile(\"POC-DATA-JUNE1.xlsx\")"
   ]
  },
  {
   "cell_type": "code",
   "execution_count": 3,
   "metadata": {},
   "outputs": [
    {
     "data": {
      "text/plain": [
       "['CUSTOMER SEGMENTATION',\n",
       " 'Sheet1',\n",
       " '2018 PLAN',\n",
       " 'SALES_DATA',\n",
       " 'PRODUCT',\n",
       " 'INVENTORY DATA',\n",
       " 'CUSTOMER_DATA',\n",
       " 'INVENTORY SEGMENTATION']"
      ]
     },
     "execution_count": 3,
     "metadata": {},
     "output_type": "execute_result"
    }
   ],
   "source": [
    "excel.sheet_names"
   ]
  },
  {
   "cell_type": "code",
   "execution_count": 4,
   "metadata": {},
   "outputs": [],
   "source": [
    "df1 = excel.parse(\"SALES_DATA\")"
   ]
  },
  {
   "cell_type": "code",
   "execution_count": 5,
   "metadata": {},
   "outputs": [
    {
     "data": {
      "text/plain": [
       "Index(['InvoiceNo', 'StockCode', 'Quantity Shipped', 'Year', 'Invoice Date',\n",
       "       'UnitPrice', 'Ext-Price', 'CustomerID', 'Country', 'GM%', 'Shipper',\n",
       "       'COST', 'EXT COST', 'REGION', 'SALES P', 'Unnamed: 15'],\n",
       "      dtype='object')"
      ]
     },
     "execution_count": 5,
     "metadata": {},
     "output_type": "execute_result"
    }
   ],
   "source": [
    "df1.columns"
   ]
  },
  {
   "cell_type": "code",
   "execution_count": 6,
   "metadata": {},
   "outputs": [
    {
     "name": "stdout",
     "output_type": "stream",
     "text": [
      "<class 'pandas.core.frame.DataFrame'>\n",
      "RangeIndex: 566309 entries, 0 to 566308\n",
      "Data columns (total 16 columns):\n",
      "InvoiceNo           566309 non-null object\n",
      "StockCode           566309 non-null object\n",
      "Quantity Shipped    566309 non-null float64\n",
      "Year                566309 non-null int64\n",
      "Invoice Date        566309 non-null object\n",
      "UnitPrice           566309 non-null float64\n",
      "Ext-Price           566309 non-null float64\n",
      "CustomerID          566309 non-null int64\n",
      "Country             566309 non-null object\n",
      "GM%                 566309 non-null float64\n",
      "Shipper             566309 non-null object\n",
      "COST                566309 non-null float64\n",
      "EXT COST            566309 non-null float64\n",
      "REGION              566309 non-null object\n",
      "SALES P             566309 non-null object\n",
      "Unnamed: 15         166199 non-null float64\n",
      "dtypes: float64(7), int64(2), object(7)\n",
      "memory usage: 69.1+ MB\n"
     ]
    }
   ],
   "source": [
    "df1.info()"
   ]
  },
  {
   "cell_type": "code",
   "execution_count": 7,
   "metadata": {},
   "outputs": [],
   "source": [
    "df1['Quantity Shipped'] = df1['Quantity Shipped'].astype(np.int64)"
   ]
  },
  {
   "cell_type": "code",
   "execution_count": 8,
   "metadata": {},
   "outputs": [],
   "source": [
    "df1.drop(df1.loc[df1['Quantity Shipped']==0].index, inplace=True)"
   ]
  },
  {
   "cell_type": "code",
   "execution_count": 9,
   "metadata": {},
   "outputs": [],
   "source": [
    "df1.drop(df1.columns[len(df1.columns)-1], axis=1, inplace=True)"
   ]
  },
  {
   "cell_type": "code",
   "execution_count": 10,
   "metadata": {},
   "outputs": [
    {
     "data": {
      "text/plain": [
       "Index(['InvoiceNo', 'StockCode', 'Quantity Shipped', 'Year', 'Invoice Date',\n",
       "       'UnitPrice', 'Ext-Price', 'CustomerID', 'Country', 'GM%', 'Shipper',\n",
       "       'COST', 'EXT COST', 'REGION', 'SALES P'],\n",
       "      dtype='object')"
      ]
     },
     "execution_count": 10,
     "metadata": {},
     "output_type": "execute_result"
    }
   ],
   "source": [
    "df1.columns"
   ]
  },
  {
   "cell_type": "code",
   "execution_count": 11,
   "metadata": {},
   "outputs": [],
   "source": [
    "df1['Ext-Price'] = df1['UnitPrice'] * df1['Quantity Shipped']"
   ]
  },
  {
   "cell_type": "code",
   "execution_count": 12,
   "metadata": {},
   "outputs": [],
   "source": [
    "df1['EXT COST'] = df1['COST'] * df1['Quantity Shipped']"
   ]
  },
  {
   "cell_type": "code",
   "execution_count": 13,
   "metadata": {},
   "outputs": [],
   "source": [
    "df1['GM%'] = (df1['Ext-Price'] - df1['EXT COST'])/df1['Ext-Price']"
   ]
  },
  {
   "cell_type": "code",
   "execution_count": 14,
   "metadata": {},
   "outputs": [],
   "source": [
    "df2 = excel.parse(\"PRODUCT\")"
   ]
  },
  {
   "cell_type": "code",
   "execution_count": 15,
   "metadata": {},
   "outputs": [],
   "source": [
    "df3 = excel.parse(\"INVENTORY DATA\")"
   ]
  },
  {
   "cell_type": "code",
   "execution_count": 16,
   "metadata": {},
   "outputs": [
    {
     "data": {
      "text/plain": [
       "3738"
      ]
     },
     "execution_count": 16,
     "metadata": {},
     "output_type": "execute_result"
    }
   ],
   "source": [
    "df3['StockCode'].nunique()"
   ]
  },
  {
   "cell_type": "code",
   "execution_count": 17,
   "metadata": {},
   "outputs": [],
   "source": [
    "df4 = excel.parse(\"CUSTOMER_DATA\")"
   ]
  },
  {
   "cell_type": "code",
   "execution_count": 18,
   "metadata": {},
   "outputs": [
    {
     "data": {
      "text/plain": [
       "4372"
      ]
     },
     "execution_count": 18,
     "metadata": {},
     "output_type": "execute_result"
    }
   ],
   "source": [
    "df4['CustomerID'].nunique()"
   ]
  },
  {
   "cell_type": "code",
   "execution_count": 19,
   "metadata": {},
   "outputs": [
    {
     "data": {
      "text/plain": [
       "3958"
      ]
     },
     "execution_count": 19,
     "metadata": {},
     "output_type": "execute_result"
    }
   ],
   "source": [
    "df2['StockCode'].nunique()"
   ]
  },
  {
   "cell_type": "code",
   "execution_count": 20,
   "metadata": {},
   "outputs": [
    {
     "data": {
      "text/plain": [
       "3738"
      ]
     },
     "execution_count": 20,
     "metadata": {},
     "output_type": "execute_result"
    }
   ],
   "source": [
    "df3['StockCode'].nunique()"
   ]
  },
  {
   "cell_type": "code",
   "execution_count": 21,
   "metadata": {},
   "outputs": [
    {
     "data": {
      "text/plain": [
       "3898"
      ]
     },
     "execution_count": 21,
     "metadata": {},
     "output_type": "execute_result"
    }
   ],
   "source": [
    "df1['StockCode'].nunique()"
   ]
  },
  {
   "cell_type": "code",
   "execution_count": 22,
   "metadata": {},
   "outputs": [],
   "source": [
    "df_merged = pd.merge(df1, df2, on = ['StockCode'], how = 'inner')"
   ]
  },
  {
   "cell_type": "code",
   "execution_count": 23,
   "metadata": {},
   "outputs": [
    {
     "name": "stdout",
     "output_type": "stream",
     "text": [
      "<class 'pandas.core.frame.DataFrame'>\n",
      "Int64Index: 554417 entries, 0 to 554416\n",
      "Data columns (total 16 columns):\n",
      "InvoiceNo           554417 non-null object\n",
      "StockCode           554417 non-null object\n",
      "Quantity Shipped    554417 non-null int64\n",
      "Year                554417 non-null int64\n",
      "Invoice Date        554417 non-null object\n",
      "UnitPrice           554417 non-null float64\n",
      "Ext-Price           554417 non-null float64\n",
      "CustomerID          554417 non-null int64\n",
      "Country             554417 non-null object\n",
      "GM%                 554417 non-null float64\n",
      "Shipper             554417 non-null object\n",
      "COST                554417 non-null float64\n",
      "EXT COST            554417 non-null float64\n",
      "REGION              554417 non-null object\n",
      "SALES P             554417 non-null object\n",
      "Commodity           554417 non-null object\n",
      "dtypes: float64(5), int64(3), object(8)\n",
      "memory usage: 71.9+ MB\n"
     ]
    }
   ],
   "source": [
    "df_merged.info()"
   ]
  },
  {
   "cell_type": "code",
   "execution_count": 24,
   "metadata": {},
   "outputs": [
    {
     "data": {
      "text/plain": [
       "Index(['InvoiceNo', 'StockCode', 'Quantity Shipped', 'Year', 'Invoice Date',\n",
       "       'UnitPrice', 'Ext-Price', 'CustomerID', 'Country', 'GM%', 'Shipper',\n",
       "       'COST', 'EXT COST', 'REGION', 'SALES P', 'Commodity'],\n",
       "      dtype='object')"
      ]
     },
     "execution_count": 24,
     "metadata": {},
     "output_type": "execute_result"
    }
   ],
   "source": [
    "df_merged.columns"
   ]
  },
  {
   "cell_type": "code",
   "execution_count": 25,
   "metadata": {},
   "outputs": [],
   "source": [
    "df_merged['Profit'] = df_merged['Ext-Price'] - df_merged['EXT COST']"
   ]
  },
  {
   "cell_type": "code",
   "execution_count": 26,
   "metadata": {},
   "outputs": [],
   "source": [
    "df_merged = pd.DataFrame(df_merged[['StockCode', 'Commodity', 'InvoiceNo','Invoice Date', 'CustomerID', \n",
    "                                    'GM%', 'REGION', 'Ext-Price', 'EXT COST', 'Profit']])"
   ]
  },
  {
   "cell_type": "code",
   "execution_count": 27,
   "metadata": {},
   "outputs": [
    {
     "data": {
      "text/html": [
       "<div>\n",
       "<style scoped>\n",
       "    .dataframe tbody tr th:only-of-type {\n",
       "        vertical-align: middle;\n",
       "    }\n",
       "\n",
       "    .dataframe tbody tr th {\n",
       "        vertical-align: top;\n",
       "    }\n",
       "\n",
       "    .dataframe thead th {\n",
       "        text-align: right;\n",
       "    }\n",
       "</style>\n",
       "<table border=\"1\" class=\"dataframe\">\n",
       "  <thead>\n",
       "    <tr style=\"text-align: right;\">\n",
       "      <th></th>\n",
       "      <th>StockCode</th>\n",
       "      <th>Commodity</th>\n",
       "      <th>InvoiceNo</th>\n",
       "      <th>Invoice Date</th>\n",
       "      <th>CustomerID</th>\n",
       "      <th>GM%</th>\n",
       "      <th>REGION</th>\n",
       "      <th>Ext-Price</th>\n",
       "      <th>EXT COST</th>\n",
       "      <th>Profit</th>\n",
       "    </tr>\n",
       "  </thead>\n",
       "  <tbody>\n",
       "    <tr>\n",
       "      <th>0</th>\n",
       "      <td>20668</td>\n",
       "      <td>Bolt</td>\n",
       "      <td>536390</td>\n",
       "      <td>2016-12-01 00:00:00</td>\n",
       "      <td>17511</td>\n",
       "      <td>-0.004235</td>\n",
       "      <td>SOUTH</td>\n",
       "      <td>13.196560</td>\n",
       "      <td>13.252443</td>\n",
       "      <td>-0.055883</td>\n",
       "    </tr>\n",
       "    <tr>\n",
       "      <th>1</th>\n",
       "      <td>20668</td>\n",
       "      <td>Bolt</td>\n",
       "      <td>536796</td>\n",
       "      <td>2016-12-02 00:00:00</td>\n",
       "      <td>15574</td>\n",
       "      <td>-0.009293</td>\n",
       "      <td>NORTH</td>\n",
       "      <td>29.290928</td>\n",
       "      <td>29.563142</td>\n",
       "      <td>-0.272214</td>\n",
       "    </tr>\n",
       "    <tr>\n",
       "      <th>2</th>\n",
       "      <td>20668</td>\n",
       "      <td>Bolt</td>\n",
       "      <td>536813</td>\n",
       "      <td>2016-12-02 00:00:00</td>\n",
       "      <td>15646</td>\n",
       "      <td>0.000303</td>\n",
       "      <td>NORTH</td>\n",
       "      <td>12.236736</td>\n",
       "      <td>12.233024</td>\n",
       "      <td>0.003712</td>\n",
       "    </tr>\n",
       "    <tr>\n",
       "      <th>3</th>\n",
       "      <td>20668</td>\n",
       "      <td>Bolt</td>\n",
       "      <td>536975</td>\n",
       "      <td>2016-12-03 00:00:00</td>\n",
       "      <td>14911</td>\n",
       "      <td>-0.003594</td>\n",
       "      <td>NORTH</td>\n",
       "      <td>12.189216</td>\n",
       "      <td>12.233024</td>\n",
       "      <td>-0.043808</td>\n",
       "    </tr>\n",
       "    <tr>\n",
       "      <th>4</th>\n",
       "      <td>20668</td>\n",
       "      <td>Bolt</td>\n",
       "      <td>536876</td>\n",
       "      <td>2016-12-03 00:00:00</td>\n",
       "      <td>13576</td>\n",
       "      <td>0.002206</td>\n",
       "      <td>NORTH</td>\n",
       "      <td>13.281736</td>\n",
       "      <td>13.252443</td>\n",
       "      <td>0.029293</td>\n",
       "    </tr>\n",
       "    <tr>\n",
       "      <th>5</th>\n",
       "      <td>20668</td>\n",
       "      <td>Bolt</td>\n",
       "      <td>537201</td>\n",
       "      <td>2016-12-05 00:00:00</td>\n",
       "      <td>12472</td>\n",
       "      <td>-0.017904</td>\n",
       "      <td>NORTH</td>\n",
       "      <td>1.001488</td>\n",
       "      <td>1.019419</td>\n",
       "      <td>-0.017931</td>\n",
       "    </tr>\n",
       "    <tr>\n",
       "      <th>6</th>\n",
       "      <td>20668</td>\n",
       "      <td>Bolt</td>\n",
       "      <td>537382</td>\n",
       "      <td>2016-12-06 00:00:00</td>\n",
       "      <td>16710</td>\n",
       "      <td>-0.012228</td>\n",
       "      <td>NORTH</td>\n",
       "      <td>26.184704</td>\n",
       "      <td>26.504886</td>\n",
       "      <td>-0.320182</td>\n",
       "    </tr>\n",
       "    <tr>\n",
       "      <th>7</th>\n",
       "      <td>20668</td>\n",
       "      <td>Bolt</td>\n",
       "      <td>537852</td>\n",
       "      <td>2016-12-08 00:00:00</td>\n",
       "      <td>17340</td>\n",
       "      <td>0.000480</td>\n",
       "      <td>NORTH</td>\n",
       "      <td>4.079632</td>\n",
       "      <td>4.077675</td>\n",
       "      <td>0.001957</td>\n",
       "    </tr>\n",
       "    <tr>\n",
       "      <th>8</th>\n",
       "      <td>20668</td>\n",
       "      <td>Bolt</td>\n",
       "      <td>537837</td>\n",
       "      <td>2016-12-08 00:00:00</td>\n",
       "      <td>13077</td>\n",
       "      <td>-0.016686</td>\n",
       "      <td>NORTH</td>\n",
       "      <td>16.043008</td>\n",
       "      <td>16.310699</td>\n",
       "      <td>-0.267691</td>\n",
       "    </tr>\n",
       "    <tr>\n",
       "      <th>9</th>\n",
       "      <td>20668</td>\n",
       "      <td>Bolt</td>\n",
       "      <td>537823</td>\n",
       "      <td>2016-12-08 00:00:00</td>\n",
       "      <td>15923</td>\n",
       "      <td>0.042350</td>\n",
       "      <td>NORTH</td>\n",
       "      <td>23.419000</td>\n",
       "      <td>22.427211</td>\n",
       "      <td>0.991789</td>\n",
       "    </tr>\n",
       "    <tr>\n",
       "      <th>10</th>\n",
       "      <td>20668</td>\n",
       "      <td>Bolt</td>\n",
       "      <td>538163</td>\n",
       "      <td>2016-12-09 00:00:00</td>\n",
       "      <td>17841</td>\n",
       "      <td>0.000727</td>\n",
       "      <td>NORTH</td>\n",
       "      <td>2.040320</td>\n",
       "      <td>2.038837</td>\n",
       "      <td>0.001483</td>\n",
       "    </tr>\n",
       "    <tr>\n",
       "      <th>11</th>\n",
       "      <td>20668</td>\n",
       "      <td>Bolt</td>\n",
       "      <td>538071</td>\n",
       "      <td>2016-12-09 00:00:00</td>\n",
       "      <td>12471</td>\n",
       "      <td>0.046164</td>\n",
       "      <td>SOUTH</td>\n",
       "      <td>1.068757</td>\n",
       "      <td>1.019419</td>\n",
       "      <td>0.049338</td>\n",
       "    </tr>\n",
       "    <tr>\n",
       "      <th>12</th>\n",
       "      <td>20668</td>\n",
       "      <td>Bolt</td>\n",
       "      <td>538356</td>\n",
       "      <td>2016-12-10 00:00:00</td>\n",
       "      <td>14062</td>\n",
       "      <td>0.009311</td>\n",
       "      <td>NORTH</td>\n",
       "      <td>1.029000</td>\n",
       "      <td>1.019419</td>\n",
       "      <td>0.009581</td>\n",
       "    </tr>\n",
       "    <tr>\n",
       "      <th>13</th>\n",
       "      <td>20668</td>\n",
       "      <td>Bolt</td>\n",
       "      <td>538866</td>\n",
       "      <td>2016-12-14 00:00:00</td>\n",
       "      <td>17841</td>\n",
       "      <td>-0.007785</td>\n",
       "      <td>NORTH</td>\n",
       "      <td>1.011544</td>\n",
       "      <td>1.019419</td>\n",
       "      <td>-0.007875</td>\n",
       "    </tr>\n",
       "    <tr>\n",
       "      <th>14</th>\n",
       "      <td>20668</td>\n",
       "      <td>Bolt</td>\n",
       "      <td>538879</td>\n",
       "      <td>2016-12-14 00:00:00</td>\n",
       "      <td>15392</td>\n",
       "      <td>-0.001571</td>\n",
       "      <td>NORTH</td>\n",
       "      <td>3.053460</td>\n",
       "      <td>3.058256</td>\n",
       "      <td>-0.004796</td>\n",
       "    </tr>\n",
       "    <tr>\n",
       "      <th>15</th>\n",
       "      <td>20668</td>\n",
       "      <td>Bolt</td>\n",
       "      <td>538866</td>\n",
       "      <td>2016-12-14 00:00:00</td>\n",
       "      <td>17841</td>\n",
       "      <td>-0.005518</td>\n",
       "      <td>NORTH</td>\n",
       "      <td>2.027648</td>\n",
       "      <td>2.038837</td>\n",
       "      <td>-0.011189</td>\n",
       "    </tr>\n",
       "    <tr>\n",
       "      <th>16</th>\n",
       "      <td>20668</td>\n",
       "      <td>Bolt</td>\n",
       "      <td>538991</td>\n",
       "      <td>2016-12-15 00:00:00</td>\n",
       "      <td>17511</td>\n",
       "      <td>-0.007849</td>\n",
       "      <td>SOUTH</td>\n",
       "      <td>1.011480</td>\n",
       "      <td>1.019419</td>\n",
       "      <td>-0.007939</td>\n",
       "    </tr>\n",
       "    <tr>\n",
       "      <th>17</th>\n",
       "      <td>20668</td>\n",
       "      <td>Bolt</td>\n",
       "      <td>539014</td>\n",
       "      <td>2016-12-15 00:00:00</td>\n",
       "      <td>17692</td>\n",
       "      <td>0.007162</td>\n",
       "      <td>NORTH</td>\n",
       "      <td>14.374808</td>\n",
       "      <td>14.271862</td>\n",
       "      <td>0.102946</td>\n",
       "    </tr>\n",
       "    <tr>\n",
       "      <th>18</th>\n",
       "      <td>20668</td>\n",
       "      <td>Bolt</td>\n",
       "      <td>539637</td>\n",
       "      <td>2016-12-20 00:00:00</td>\n",
       "      <td>14083</td>\n",
       "      <td>0.002557</td>\n",
       "      <td>NORTH</td>\n",
       "      <td>9.198288</td>\n",
       "      <td>9.174768</td>\n",
       "      <td>0.023520</td>\n",
       "    </tr>\n",
       "    <tr>\n",
       "      <th>19</th>\n",
       "      <td>20668</td>\n",
       "      <td>Bolt</td>\n",
       "      <td>540021</td>\n",
       "      <td>2017-01-04 00:00:00</td>\n",
       "      <td>17841</td>\n",
       "      <td>0.012436</td>\n",
       "      <td>NORTH</td>\n",
       "      <td>4.129024</td>\n",
       "      <td>4.077675</td>\n",
       "      <td>0.051349</td>\n",
       "    </tr>\n",
       "    <tr>\n",
       "      <th>20</th>\n",
       "      <td>20668</td>\n",
       "      <td>Bolt</td>\n",
       "      <td>540943</td>\n",
       "      <td>2017-01-12 00:00:00</td>\n",
       "      <td>17841</td>\n",
       "      <td>-0.008287</td>\n",
       "      <td>NORTH</td>\n",
       "      <td>1.011040</td>\n",
       "      <td>1.019419</td>\n",
       "      <td>-0.008379</td>\n",
       "    </tr>\n",
       "    <tr>\n",
       "      <th>21</th>\n",
       "      <td>20668</td>\n",
       "      <td>Bolt</td>\n",
       "      <td>540977</td>\n",
       "      <td>2017-01-12 00:00:00</td>\n",
       "      <td>17377</td>\n",
       "      <td>0.077670</td>\n",
       "      <td>WEST</td>\n",
       "      <td>3.315792</td>\n",
       "      <td>3.058256</td>\n",
       "      <td>0.257536</td>\n",
       "    </tr>\n",
       "    <tr>\n",
       "      <th>22</th>\n",
       "      <td>20668</td>\n",
       "      <td>Bolt</td>\n",
       "      <td>541253</td>\n",
       "      <td>2017-01-16 00:00:00</td>\n",
       "      <td>17841</td>\n",
       "      <td>-0.013774</td>\n",
       "      <td>NORTH</td>\n",
       "      <td>3.016704</td>\n",
       "      <td>3.058256</td>\n",
       "      <td>-0.041552</td>\n",
       "    </tr>\n",
       "    <tr>\n",
       "      <th>23</th>\n",
       "      <td>20668</td>\n",
       "      <td>Bolt</td>\n",
       "      <td>541810</td>\n",
       "      <td>2017-01-21 00:00:00</td>\n",
       "      <td>16210</td>\n",
       "      <td>0.003557</td>\n",
       "      <td>NORTH</td>\n",
       "      <td>237.349456</td>\n",
       "      <td>236.505137</td>\n",
       "      <td>0.844319</td>\n",
       "    </tr>\n",
       "    <tr>\n",
       "      <th>24</th>\n",
       "      <td>20668</td>\n",
       "      <td>Bolt</td>\n",
       "      <td>543358</td>\n",
       "      <td>2017-02-07 00:00:00</td>\n",
       "      <td>13758</td>\n",
       "      <td>0.041566</td>\n",
       "      <td>NORTH</td>\n",
       "      <td>2.127260</td>\n",
       "      <td>2.038837</td>\n",
       "      <td>0.088423</td>\n",
       "    </tr>\n",
       "    <tr>\n",
       "      <th>25</th>\n",
       "      <td>20668</td>\n",
       "      <td>Bolt</td>\n",
       "      <td>543973</td>\n",
       "      <td>2017-02-14 00:00:00</td>\n",
       "      <td>17571</td>\n",
       "      <td>-0.010975</td>\n",
       "      <td>CENTRAL</td>\n",
       "      <td>19.158688</td>\n",
       "      <td>19.368955</td>\n",
       "      <td>-0.210267</td>\n",
       "    </tr>\n",
       "    <tr>\n",
       "      <th>26</th>\n",
       "      <td>20668</td>\n",
       "      <td>Bolt</td>\n",
       "      <td>543985</td>\n",
       "      <td>2017-02-15 00:00:00</td>\n",
       "      <td>18085</td>\n",
       "      <td>0.002575</td>\n",
       "      <td>NORTH</td>\n",
       "      <td>19.418950</td>\n",
       "      <td>19.368955</td>\n",
       "      <td>0.049995</td>\n",
       "    </tr>\n",
       "    <tr>\n",
       "      <th>27</th>\n",
       "      <td>20668</td>\n",
       "      <td>Bolt</td>\n",
       "      <td>544676</td>\n",
       "      <td>2017-02-22 00:00:00</td>\n",
       "      <td>17841</td>\n",
       "      <td>-0.012855</td>\n",
       "      <td>NORTH</td>\n",
       "      <td>163.049760</td>\n",
       "      <td>165.145828</td>\n",
       "      <td>-2.096068</td>\n",
       "    </tr>\n",
       "    <tr>\n",
       "      <th>28</th>\n",
       "      <td>20668</td>\n",
       "      <td>Bolt</td>\n",
       "      <td>546364</td>\n",
       "      <td>2017-03-11 00:00:00</td>\n",
       "      <td>17964</td>\n",
       "      <td>-0.015398</td>\n",
       "      <td>NORTH</td>\n",
       "      <td>639.522520</td>\n",
       "      <td>649.369707</td>\n",
       "      <td>-9.847187</td>\n",
       "    </tr>\n",
       "    <tr>\n",
       "      <th>29</th>\n",
       "      <td>20668</td>\n",
       "      <td>Bolt</td>\n",
       "      <td>546390</td>\n",
       "      <td>2017-03-11 00:00:00</td>\n",
       "      <td>14083</td>\n",
       "      <td>-0.018612</td>\n",
       "      <td>NORTH</td>\n",
       "      <td>5.003960</td>\n",
       "      <td>5.097093</td>\n",
       "      <td>-0.093133</td>\n",
       "    </tr>\n",
       "    <tr>\n",
       "      <th>...</th>\n",
       "      <td>...</td>\n",
       "      <td>...</td>\n",
       "      <td>...</td>\n",
       "      <td>...</td>\n",
       "      <td>...</td>\n",
       "      <td>...</td>\n",
       "      <td>...</td>\n",
       "      <td>...</td>\n",
       "      <td>...</td>\n",
       "      <td>...</td>\n",
       "    </tr>\n",
       "    <tr>\n",
       "      <th>70</th>\n",
       "      <td>20668</td>\n",
       "      <td>Bolt</td>\n",
       "      <td>568220</td>\n",
       "      <td>2017-09-26 00:00:00</td>\n",
       "      <td>15626</td>\n",
       "      <td>-0.011011</td>\n",
       "      <td>WEST</td>\n",
       "      <td>4.033264</td>\n",
       "      <td>4.077675</td>\n",
       "      <td>-0.044411</td>\n",
       "    </tr>\n",
       "    <tr>\n",
       "      <th>71</th>\n",
       "      <td>20668</td>\n",
       "      <td>Bolt</td>\n",
       "      <td>568716</td>\n",
       "      <td>2017-09-28 00:00:00</td>\n",
       "      <td>16916</td>\n",
       "      <td>0.021277</td>\n",
       "      <td>NORTH</td>\n",
       "      <td>35.413720</td>\n",
       "      <td>34.660236</td>\n",
       "      <td>0.753484</td>\n",
       "    </tr>\n",
       "    <tr>\n",
       "      <th>72</th>\n",
       "      <td>20668</td>\n",
       "      <td>Bolt</td>\n",
       "      <td>568833</td>\n",
       "      <td>2017-09-29 00:00:00</td>\n",
       "      <td>17348</td>\n",
       "      <td>-0.012131</td>\n",
       "      <td>CENTRAL</td>\n",
       "      <td>9.064800</td>\n",
       "      <td>9.174768</td>\n",
       "      <td>-0.109968</td>\n",
       "    </tr>\n",
       "    <tr>\n",
       "      <th>73</th>\n",
       "      <td>20668</td>\n",
       "      <td>Bolt</td>\n",
       "      <td>569235</td>\n",
       "      <td>2017-10-02 00:00:00</td>\n",
       "      <td>17841</td>\n",
       "      <td>-0.010398</td>\n",
       "      <td>NORTH</td>\n",
       "      <td>12.107136</td>\n",
       "      <td>12.233024</td>\n",
       "      <td>-0.125888</td>\n",
       "    </tr>\n",
       "    <tr>\n",
       "      <th>74</th>\n",
       "      <td>20668</td>\n",
       "      <td>Bolt</td>\n",
       "      <td>569900</td>\n",
       "      <td>2017-10-06 00:00:00</td>\n",
       "      <td>17651</td>\n",
       "      <td>-0.008527</td>\n",
       "      <td>SOUTH</td>\n",
       "      <td>19.205200</td>\n",
       "      <td>19.368955</td>\n",
       "      <td>-0.163755</td>\n",
       "    </tr>\n",
       "    <tr>\n",
       "      <th>75</th>\n",
       "      <td>20668</td>\n",
       "      <td>Bolt</td>\n",
       "      <td>570242</td>\n",
       "      <td>2017-10-09 00:00:00</td>\n",
       "      <td>16380</td>\n",
       "      <td>-0.002079</td>\n",
       "      <td>SOUTH</td>\n",
       "      <td>6.103824</td>\n",
       "      <td>6.116512</td>\n",
       "      <td>-0.012688</td>\n",
       "    </tr>\n",
       "    <tr>\n",
       "      <th>76</th>\n",
       "      <td>20668</td>\n",
       "      <td>Bolt</td>\n",
       "      <td>570826</td>\n",
       "      <td>2017-10-12 00:00:00</td>\n",
       "      <td>16753</td>\n",
       "      <td>-0.009186</td>\n",
       "      <td>SOUTH</td>\n",
       "      <td>1.010140</td>\n",
       "      <td>1.019419</td>\n",
       "      <td>-0.009279</td>\n",
       "    </tr>\n",
       "    <tr>\n",
       "      <th>77</th>\n",
       "      <td>20668</td>\n",
       "      <td>Bolt</td>\n",
       "      <td>570818</td>\n",
       "      <td>2017-10-12 00:00:00</td>\n",
       "      <td>17841</td>\n",
       "      <td>-0.008742</td>\n",
       "      <td>NORTH</td>\n",
       "      <td>17.179928</td>\n",
       "      <td>17.330118</td>\n",
       "      <td>-0.150190</td>\n",
       "    </tr>\n",
       "    <tr>\n",
       "      <th>78</th>\n",
       "      <td>20668</td>\n",
       "      <td>Bolt</td>\n",
       "      <td>570791</td>\n",
       "      <td>2017-10-12 00:00:00</td>\n",
       "      <td>17346</td>\n",
       "      <td>-0.004983</td>\n",
       "      <td>NORTH</td>\n",
       "      <td>27.387828</td>\n",
       "      <td>27.524305</td>\n",
       "      <td>-0.136477</td>\n",
       "    </tr>\n",
       "    <tr>\n",
       "      <th>79</th>\n",
       "      <td>20668</td>\n",
       "      <td>Bolt</td>\n",
       "      <td>571214</td>\n",
       "      <td>2017-10-14 00:00:00</td>\n",
       "      <td>14390</td>\n",
       "      <td>0.006337</td>\n",
       "      <td>NORTH</td>\n",
       "      <td>25.648000</td>\n",
       "      <td>25.485467</td>\n",
       "      <td>0.162533</td>\n",
       "    </tr>\n",
       "    <tr>\n",
       "      <th>80</th>\n",
       "      <td>20668</td>\n",
       "      <td>Bolt</td>\n",
       "      <td>571189</td>\n",
       "      <td>2017-10-14 00:00:00</td>\n",
       "      <td>13213</td>\n",
       "      <td>0.007452</td>\n",
       "      <td>SOUTH</td>\n",
       "      <td>13.351936</td>\n",
       "      <td>13.252443</td>\n",
       "      <td>0.099493</td>\n",
       "    </tr>\n",
       "    <tr>\n",
       "      <th>81</th>\n",
       "      <td>20668</td>\n",
       "      <td>Bolt</td>\n",
       "      <td>571684</td>\n",
       "      <td>2017-10-18 00:00:00</td>\n",
       "      <td>16730</td>\n",
       "      <td>-0.014743</td>\n",
       "      <td>WEST</td>\n",
       "      <td>21.096768</td>\n",
       "      <td>21.407793</td>\n",
       "      <td>-0.311025</td>\n",
       "    </tr>\n",
       "    <tr>\n",
       "      <th>82</th>\n",
       "      <td>20668</td>\n",
       "      <td>Bolt</td>\n",
       "      <td>571671</td>\n",
       "      <td>2017-10-18 00:00:00</td>\n",
       "      <td>16940</td>\n",
       "      <td>0.014121</td>\n",
       "      <td>CENTRAL</td>\n",
       "      <td>1.034020</td>\n",
       "      <td>1.019419</td>\n",
       "      <td>0.014601</td>\n",
       "    </tr>\n",
       "    <tr>\n",
       "      <th>83</th>\n",
       "      <td>20668</td>\n",
       "      <td>Bolt</td>\n",
       "      <td>571653</td>\n",
       "      <td>2017-10-18 00:00:00</td>\n",
       "      <td>14298</td>\n",
       "      <td>0.006608</td>\n",
       "      <td>NORTH</td>\n",
       "      <td>2.052400</td>\n",
       "      <td>2.038837</td>\n",
       "      <td>0.013563</td>\n",
       "    </tr>\n",
       "    <tr>\n",
       "      <th>84</th>\n",
       "      <td>20668</td>\n",
       "      <td>Bolt</td>\n",
       "      <td>571920</td>\n",
       "      <td>2017-10-19 00:00:00</td>\n",
       "      <td>14799</td>\n",
       "      <td>0.021671</td>\n",
       "      <td>WEST</td>\n",
       "      <td>1.042000</td>\n",
       "      <td>1.019419</td>\n",
       "      <td>0.022581</td>\n",
       "    </tr>\n",
       "    <tr>\n",
       "      <th>85</th>\n",
       "      <td>20668</td>\n",
       "      <td>Bolt</td>\n",
       "      <td>571846</td>\n",
       "      <td>2017-10-19 00:00:00</td>\n",
       "      <td>17841</td>\n",
       "      <td>-0.003618</td>\n",
       "      <td>NORTH</td>\n",
       "      <td>1.015744</td>\n",
       "      <td>1.019419</td>\n",
       "      <td>-0.003675</td>\n",
       "    </tr>\n",
       "    <tr>\n",
       "      <th>86</th>\n",
       "      <td>20668</td>\n",
       "      <td>Bolt</td>\n",
       "      <td>571740</td>\n",
       "      <td>2017-10-19 00:00:00</td>\n",
       "      <td>17973</td>\n",
       "      <td>-0.007904</td>\n",
       "      <td>WEST</td>\n",
       "      <td>54.616896</td>\n",
       "      <td>55.048609</td>\n",
       "      <td>-0.431713</td>\n",
       "    </tr>\n",
       "    <tr>\n",
       "      <th>87</th>\n",
       "      <td>20668</td>\n",
       "      <td>Bolt</td>\n",
       "      <td>572092</td>\n",
       "      <td>2017-10-20 00:00:00</td>\n",
       "      <td>17125</td>\n",
       "      <td>-0.018294</td>\n",
       "      <td>WEST</td>\n",
       "      <td>5.005520</td>\n",
       "      <td>5.097093</td>\n",
       "      <td>-0.091573</td>\n",
       "    </tr>\n",
       "    <tr>\n",
       "      <th>88</th>\n",
       "      <td>20668</td>\n",
       "      <td>Bolt</td>\n",
       "      <td>572090</td>\n",
       "      <td>2017-10-20 00:00:00</td>\n",
       "      <td>13573</td>\n",
       "      <td>0.003353</td>\n",
       "      <td>CENTRAL</td>\n",
       "      <td>6.137088</td>\n",
       "      <td>6.116512</td>\n",
       "      <td>0.020576</td>\n",
       "    </tr>\n",
       "    <tr>\n",
       "      <th>89</th>\n",
       "      <td>20668</td>\n",
       "      <td>Bolt</td>\n",
       "      <td>572103</td>\n",
       "      <td>2017-10-20 00:00:00</td>\n",
       "      <td>17571</td>\n",
       "      <td>-0.006376</td>\n",
       "      <td>CENTRAL</td>\n",
       "      <td>3.038880</td>\n",
       "      <td>3.058256</td>\n",
       "      <td>-0.019376</td>\n",
       "    </tr>\n",
       "    <tr>\n",
       "      <th>90</th>\n",
       "      <td>20668</td>\n",
       "      <td>Bolt</td>\n",
       "      <td>572069</td>\n",
       "      <td>2017-10-20 00:00:00</td>\n",
       "      <td>14911</td>\n",
       "      <td>-0.016248</td>\n",
       "      <td>NORTH</td>\n",
       "      <td>2.006240</td>\n",
       "      <td>2.038837</td>\n",
       "      <td>-0.032597</td>\n",
       "    </tr>\n",
       "    <tr>\n",
       "      <th>91</th>\n",
       "      <td>20668</td>\n",
       "      <td>Bolt</td>\n",
       "      <td>572063</td>\n",
       "      <td>2017-10-20 00:00:00</td>\n",
       "      <td>14606</td>\n",
       "      <td>-0.017416</td>\n",
       "      <td>NORTH</td>\n",
       "      <td>12.023616</td>\n",
       "      <td>12.233024</td>\n",
       "      <td>-0.209408</td>\n",
       "    </tr>\n",
       "    <tr>\n",
       "      <th>92</th>\n",
       "      <td>20668</td>\n",
       "      <td>Bolt</td>\n",
       "      <td>572023</td>\n",
       "      <td>2017-10-20 00:00:00</td>\n",
       "      <td>17764</td>\n",
       "      <td>-0.016345</td>\n",
       "      <td>CENTRAL</td>\n",
       "      <td>9.027216</td>\n",
       "      <td>9.174768</td>\n",
       "      <td>-0.147552</td>\n",
       "    </tr>\n",
       "    <tr>\n",
       "      <th>93</th>\n",
       "      <td>20668</td>\n",
       "      <td>Bolt</td>\n",
       "      <td>572306</td>\n",
       "      <td>2017-10-23 00:00:00</td>\n",
       "      <td>17841</td>\n",
       "      <td>-0.012421</td>\n",
       "      <td>NORTH</td>\n",
       "      <td>10.069120</td>\n",
       "      <td>10.194187</td>\n",
       "      <td>-0.125067</td>\n",
       "    </tr>\n",
       "    <tr>\n",
       "      <th>94</th>\n",
       "      <td>20668</td>\n",
       "      <td>Bolt</td>\n",
       "      <td>572309</td>\n",
       "      <td>2017-10-23 00:00:00</td>\n",
       "      <td>14432</td>\n",
       "      <td>0.001079</td>\n",
       "      <td>SOUTH</td>\n",
       "      <td>19.389880</td>\n",
       "      <td>19.368955</td>\n",
       "      <td>0.020925</td>\n",
       "    </tr>\n",
       "    <tr>\n",
       "      <th>95</th>\n",
       "      <td>20668</td>\n",
       "      <td>Bolt</td>\n",
       "      <td>572720</td>\n",
       "      <td>2017-10-25 00:00:00</td>\n",
       "      <td>13978</td>\n",
       "      <td>-0.003523</td>\n",
       "      <td>WEST</td>\n",
       "      <td>13.205920</td>\n",
       "      <td>13.252443</td>\n",
       "      <td>-0.046523</td>\n",
       "    </tr>\n",
       "    <tr>\n",
       "      <th>96</th>\n",
       "      <td>20668</td>\n",
       "      <td>Bolt</td>\n",
       "      <td>572903</td>\n",
       "      <td>2017-10-26 00:00:00</td>\n",
       "      <td>17974</td>\n",
       "      <td>0.017462</td>\n",
       "      <td>CENTRAL</td>\n",
       "      <td>1.037536</td>\n",
       "      <td>1.019419</td>\n",
       "      <td>0.018117</td>\n",
       "    </tr>\n",
       "    <tr>\n",
       "      <th>97</th>\n",
       "      <td>20668</td>\n",
       "      <td>Bolt</td>\n",
       "      <td>572772</td>\n",
       "      <td>2017-10-26 00:00:00</td>\n",
       "      <td>17511</td>\n",
       "      <td>-0.012252</td>\n",
       "      <td>SOUTH</td>\n",
       "      <td>108.764640</td>\n",
       "      <td>110.097219</td>\n",
       "      <td>-1.332579</td>\n",
       "    </tr>\n",
       "    <tr>\n",
       "      <th>98</th>\n",
       "      <td>20668</td>\n",
       "      <td>Bolt</td>\n",
       "      <td>573311</td>\n",
       "      <td>2017-10-28 00:00:00</td>\n",
       "      <td>14071</td>\n",
       "      <td>-0.017368</td>\n",
       "      <td>CENTRAL</td>\n",
       "      <td>5.010080</td>\n",
       "      <td>5.097093</td>\n",
       "      <td>-0.087013</td>\n",
       "    </tr>\n",
       "    <tr>\n",
       "      <th>99</th>\n",
       "      <td>20668</td>\n",
       "      <td>Bolt</td>\n",
       "      <td>573332</td>\n",
       "      <td>2017-10-30 00:00:00</td>\n",
       "      <td>15059</td>\n",
       "      <td>-0.001842</td>\n",
       "      <td>WEST</td>\n",
       "      <td>3.052632</td>\n",
       "      <td>3.058256</td>\n",
       "      <td>-0.005624</td>\n",
       "    </tr>\n",
       "  </tbody>\n",
       "</table>\n",
       "<p>100 rows × 10 columns</p>\n",
       "</div>"
      ],
      "text/plain": [
       "   StockCode Commodity InvoiceNo         Invoice Date  CustomerID       GM%  \\\n",
       "0      20668      Bolt    536390  2016-12-01 00:00:00       17511 -0.004235   \n",
       "1      20668      Bolt    536796  2016-12-02 00:00:00       15574 -0.009293   \n",
       "2      20668      Bolt    536813  2016-12-02 00:00:00       15646  0.000303   \n",
       "3      20668      Bolt    536975  2016-12-03 00:00:00       14911 -0.003594   \n",
       "4      20668      Bolt    536876  2016-12-03 00:00:00       13576  0.002206   \n",
       "5      20668      Bolt    537201  2016-12-05 00:00:00       12472 -0.017904   \n",
       "6      20668      Bolt    537382  2016-12-06 00:00:00       16710 -0.012228   \n",
       "7      20668      Bolt    537852  2016-12-08 00:00:00       17340  0.000480   \n",
       "8      20668      Bolt    537837  2016-12-08 00:00:00       13077 -0.016686   \n",
       "9      20668      Bolt    537823  2016-12-08 00:00:00       15923  0.042350   \n",
       "10     20668      Bolt    538163  2016-12-09 00:00:00       17841  0.000727   \n",
       "11     20668      Bolt    538071  2016-12-09 00:00:00       12471  0.046164   \n",
       "12     20668      Bolt    538356  2016-12-10 00:00:00       14062  0.009311   \n",
       "13     20668      Bolt    538866  2016-12-14 00:00:00       17841 -0.007785   \n",
       "14     20668      Bolt    538879  2016-12-14 00:00:00       15392 -0.001571   \n",
       "15     20668      Bolt    538866  2016-12-14 00:00:00       17841 -0.005518   \n",
       "16     20668      Bolt    538991  2016-12-15 00:00:00       17511 -0.007849   \n",
       "17     20668      Bolt    539014  2016-12-15 00:00:00       17692  0.007162   \n",
       "18     20668      Bolt    539637  2016-12-20 00:00:00       14083  0.002557   \n",
       "19     20668      Bolt    540021  2017-01-04 00:00:00       17841  0.012436   \n",
       "20     20668      Bolt    540943  2017-01-12 00:00:00       17841 -0.008287   \n",
       "21     20668      Bolt    540977  2017-01-12 00:00:00       17377  0.077670   \n",
       "22     20668      Bolt    541253  2017-01-16 00:00:00       17841 -0.013774   \n",
       "23     20668      Bolt    541810  2017-01-21 00:00:00       16210  0.003557   \n",
       "24     20668      Bolt    543358  2017-02-07 00:00:00       13758  0.041566   \n",
       "25     20668      Bolt    543973  2017-02-14 00:00:00       17571 -0.010975   \n",
       "26     20668      Bolt    543985  2017-02-15 00:00:00       18085  0.002575   \n",
       "27     20668      Bolt    544676  2017-02-22 00:00:00       17841 -0.012855   \n",
       "28     20668      Bolt    546364  2017-03-11 00:00:00       17964 -0.015398   \n",
       "29     20668      Bolt    546390  2017-03-11 00:00:00       14083 -0.018612   \n",
       "..       ...       ...       ...                  ...         ...       ...   \n",
       "70     20668      Bolt    568220  2017-09-26 00:00:00       15626 -0.011011   \n",
       "71     20668      Bolt    568716  2017-09-28 00:00:00       16916  0.021277   \n",
       "72     20668      Bolt    568833  2017-09-29 00:00:00       17348 -0.012131   \n",
       "73     20668      Bolt    569235  2017-10-02 00:00:00       17841 -0.010398   \n",
       "74     20668      Bolt    569900  2017-10-06 00:00:00       17651 -0.008527   \n",
       "75     20668      Bolt    570242  2017-10-09 00:00:00       16380 -0.002079   \n",
       "76     20668      Bolt    570826  2017-10-12 00:00:00       16753 -0.009186   \n",
       "77     20668      Bolt    570818  2017-10-12 00:00:00       17841 -0.008742   \n",
       "78     20668      Bolt    570791  2017-10-12 00:00:00       17346 -0.004983   \n",
       "79     20668      Bolt    571214  2017-10-14 00:00:00       14390  0.006337   \n",
       "80     20668      Bolt    571189  2017-10-14 00:00:00       13213  0.007452   \n",
       "81     20668      Bolt    571684  2017-10-18 00:00:00       16730 -0.014743   \n",
       "82     20668      Bolt    571671  2017-10-18 00:00:00       16940  0.014121   \n",
       "83     20668      Bolt    571653  2017-10-18 00:00:00       14298  0.006608   \n",
       "84     20668      Bolt    571920  2017-10-19 00:00:00       14799  0.021671   \n",
       "85     20668      Bolt    571846  2017-10-19 00:00:00       17841 -0.003618   \n",
       "86     20668      Bolt    571740  2017-10-19 00:00:00       17973 -0.007904   \n",
       "87     20668      Bolt    572092  2017-10-20 00:00:00       17125 -0.018294   \n",
       "88     20668      Bolt    572090  2017-10-20 00:00:00       13573  0.003353   \n",
       "89     20668      Bolt    572103  2017-10-20 00:00:00       17571 -0.006376   \n",
       "90     20668      Bolt    572069  2017-10-20 00:00:00       14911 -0.016248   \n",
       "91     20668      Bolt    572063  2017-10-20 00:00:00       14606 -0.017416   \n",
       "92     20668      Bolt    572023  2017-10-20 00:00:00       17764 -0.016345   \n",
       "93     20668      Bolt    572306  2017-10-23 00:00:00       17841 -0.012421   \n",
       "94     20668      Bolt    572309  2017-10-23 00:00:00       14432  0.001079   \n",
       "95     20668      Bolt    572720  2017-10-25 00:00:00       13978 -0.003523   \n",
       "96     20668      Bolt    572903  2017-10-26 00:00:00       17974  0.017462   \n",
       "97     20668      Bolt    572772  2017-10-26 00:00:00       17511 -0.012252   \n",
       "98     20668      Bolt    573311  2017-10-28 00:00:00       14071 -0.017368   \n",
       "99     20668      Bolt    573332  2017-10-30 00:00:00       15059 -0.001842   \n",
       "\n",
       "     REGION   Ext-Price    EXT COST    Profit  \n",
       "0     SOUTH   13.196560   13.252443 -0.055883  \n",
       "1     NORTH   29.290928   29.563142 -0.272214  \n",
       "2     NORTH   12.236736   12.233024  0.003712  \n",
       "3     NORTH   12.189216   12.233024 -0.043808  \n",
       "4     NORTH   13.281736   13.252443  0.029293  \n",
       "5     NORTH    1.001488    1.019419 -0.017931  \n",
       "6     NORTH   26.184704   26.504886 -0.320182  \n",
       "7     NORTH    4.079632    4.077675  0.001957  \n",
       "8     NORTH   16.043008   16.310699 -0.267691  \n",
       "9     NORTH   23.419000   22.427211  0.991789  \n",
       "10    NORTH    2.040320    2.038837  0.001483  \n",
       "11    SOUTH    1.068757    1.019419  0.049338  \n",
       "12    NORTH    1.029000    1.019419  0.009581  \n",
       "13    NORTH    1.011544    1.019419 -0.007875  \n",
       "14    NORTH    3.053460    3.058256 -0.004796  \n",
       "15    NORTH    2.027648    2.038837 -0.011189  \n",
       "16    SOUTH    1.011480    1.019419 -0.007939  \n",
       "17    NORTH   14.374808   14.271862  0.102946  \n",
       "18    NORTH    9.198288    9.174768  0.023520  \n",
       "19    NORTH    4.129024    4.077675  0.051349  \n",
       "20    NORTH    1.011040    1.019419 -0.008379  \n",
       "21     WEST    3.315792    3.058256  0.257536  \n",
       "22    NORTH    3.016704    3.058256 -0.041552  \n",
       "23    NORTH  237.349456  236.505137  0.844319  \n",
       "24    NORTH    2.127260    2.038837  0.088423  \n",
       "25  CENTRAL   19.158688   19.368955 -0.210267  \n",
       "26    NORTH   19.418950   19.368955  0.049995  \n",
       "27    NORTH  163.049760  165.145828 -2.096068  \n",
       "28    NORTH  639.522520  649.369707 -9.847187  \n",
       "29    NORTH    5.003960    5.097093 -0.093133  \n",
       "..      ...         ...         ...       ...  \n",
       "70     WEST    4.033264    4.077675 -0.044411  \n",
       "71    NORTH   35.413720   34.660236  0.753484  \n",
       "72  CENTRAL    9.064800    9.174768 -0.109968  \n",
       "73    NORTH   12.107136   12.233024 -0.125888  \n",
       "74    SOUTH   19.205200   19.368955 -0.163755  \n",
       "75    SOUTH    6.103824    6.116512 -0.012688  \n",
       "76    SOUTH    1.010140    1.019419 -0.009279  \n",
       "77    NORTH   17.179928   17.330118 -0.150190  \n",
       "78    NORTH   27.387828   27.524305 -0.136477  \n",
       "79    NORTH   25.648000   25.485467  0.162533  \n",
       "80    SOUTH   13.351936   13.252443  0.099493  \n",
       "81     WEST   21.096768   21.407793 -0.311025  \n",
       "82  CENTRAL    1.034020    1.019419  0.014601  \n",
       "83    NORTH    2.052400    2.038837  0.013563  \n",
       "84     WEST    1.042000    1.019419  0.022581  \n",
       "85    NORTH    1.015744    1.019419 -0.003675  \n",
       "86     WEST   54.616896   55.048609 -0.431713  \n",
       "87     WEST    5.005520    5.097093 -0.091573  \n",
       "88  CENTRAL    6.137088    6.116512  0.020576  \n",
       "89  CENTRAL    3.038880    3.058256 -0.019376  \n",
       "90    NORTH    2.006240    2.038837 -0.032597  \n",
       "91    NORTH   12.023616   12.233024 -0.209408  \n",
       "92  CENTRAL    9.027216    9.174768 -0.147552  \n",
       "93    NORTH   10.069120   10.194187 -0.125067  \n",
       "94    SOUTH   19.389880   19.368955  0.020925  \n",
       "95     WEST   13.205920   13.252443 -0.046523  \n",
       "96  CENTRAL    1.037536    1.019419  0.018117  \n",
       "97    SOUTH  108.764640  110.097219 -1.332579  \n",
       "98  CENTRAL    5.010080    5.097093 -0.087013  \n",
       "99     WEST    3.052632    3.058256 -0.005624  \n",
       "\n",
       "[100 rows x 10 columns]"
      ]
     },
     "execution_count": 27,
     "metadata": {},
     "output_type": "execute_result"
    }
   ],
   "source": [
    "df_merged.head(100)"
   ]
  },
  {
   "cell_type": "code",
   "execution_count": 28,
   "metadata": {},
   "outputs": [
    {
     "name": "stdout",
     "output_type": "stream",
     "text": [
      "<class 'pandas.core.frame.DataFrame'>\n",
      "Int64Index: 554417 entries, 0 to 554416\n",
      "Data columns (total 10 columns):\n",
      "StockCode       554417 non-null object\n",
      "Commodity       554417 non-null object\n",
      "InvoiceNo       554417 non-null object\n",
      "Invoice Date    554417 non-null object\n",
      "CustomerID      554417 non-null int64\n",
      "GM%             554417 non-null float64\n",
      "REGION          554417 non-null object\n",
      "Ext-Price       554417 non-null float64\n",
      "EXT COST        554417 non-null float64\n",
      "Profit          554417 non-null float64\n",
      "dtypes: float64(4), int64(1), object(5)\n",
      "memory usage: 46.5+ MB\n"
     ]
    }
   ],
   "source": [
    "df_merged.info()"
   ]
  },
  {
   "cell_type": "code",
   "execution_count": 29,
   "metadata": {},
   "outputs": [
    {
     "name": "stdout",
     "output_type": "stream",
     "text": [
      "<class 'pandas.core.frame.DataFrame'>\n",
      "Int64Index: 554417 entries, 0 to 554416\n",
      "Data columns (total 10 columns):\n",
      "StockCode       554417 non-null object\n",
      "Commodity       554417 non-null object\n",
      "InvoiceNo       554417 non-null object\n",
      "Invoice Date    554417 non-null object\n",
      "CustomerID      554417 non-null int64\n",
      "GM%             554417 non-null float64\n",
      "REGION          554417 non-null object\n",
      "Ext-Price       554417 non-null float64\n",
      "EXT COST        554417 non-null float64\n",
      "Profit          554417 non-null float64\n",
      "dtypes: float64(4), int64(1), object(5)\n",
      "memory usage: 46.5+ MB\n"
     ]
    }
   ],
   "source": [
    "df_merged.info()"
   ]
  },
  {
   "cell_type": "code",
   "execution_count": 30,
   "metadata": {},
   "outputs": [
    {
     "data": {
      "text/plain": [
       "Index(['StockCode', 'Commodity', 'InvoiceNo', 'Invoice Date', 'CustomerID',\n",
       "       'GM%', 'REGION', 'Ext-Price', 'EXT COST', 'Profit'],\n",
       "      dtype='object')"
      ]
     },
     "execution_count": 30,
     "metadata": {},
     "output_type": "execute_result"
    }
   ],
   "source": [
    "df_merged.columns"
   ]
  },
  {
   "cell_type": "code",
   "execution_count": 31,
   "metadata": {},
   "outputs": [
    {
     "data": {
      "text/plain": [
       "Washer    159998\n",
       "Nut       129798\n",
       "Screw     122506\n",
       "Bolt      102248\n",
       "Studs      39867\n",
       "Name: Commodity, dtype: int64"
      ]
     },
     "execution_count": 31,
     "metadata": {},
     "output_type": "execute_result"
    }
   ],
   "source": [
    "df_merged['Commodity'].value_counts()"
   ]
  },
  {
   "cell_type": "code",
   "execution_count": 32,
   "metadata": {},
   "outputs": [
    {
     "data": {
      "text/html": [
       "<div>\n",
       "<style scoped>\n",
       "    .dataframe tbody tr th:only-of-type {\n",
       "        vertical-align: middle;\n",
       "    }\n",
       "\n",
       "    .dataframe tbody tr th {\n",
       "        vertical-align: top;\n",
       "    }\n",
       "\n",
       "    .dataframe thead th {\n",
       "        text-align: right;\n",
       "    }\n",
       "</style>\n",
       "<table border=\"1\" class=\"dataframe\">\n",
       "  <thead>\n",
       "    <tr style=\"text-align: right;\">\n",
       "      <th></th>\n",
       "      <th>StockCode</th>\n",
       "      <th>Commodity</th>\n",
       "      <th>InvoiceNo</th>\n",
       "      <th>Invoice Date</th>\n",
       "      <th>CustomerID</th>\n",
       "      <th>GM%</th>\n",
       "      <th>REGION</th>\n",
       "      <th>Ext-Price</th>\n",
       "      <th>EXT COST</th>\n",
       "      <th>Profit</th>\n",
       "    </tr>\n",
       "  </thead>\n",
       "  <tbody>\n",
       "    <tr>\n",
       "      <th>0</th>\n",
       "      <td>20668</td>\n",
       "      <td>Bolt</td>\n",
       "      <td>536390</td>\n",
       "      <td>2016-12-01 00:00:00</td>\n",
       "      <td>17511</td>\n",
       "      <td>-0.004235</td>\n",
       "      <td>SOUTH</td>\n",
       "      <td>13.196560</td>\n",
       "      <td>13.252443</td>\n",
       "      <td>-0.055883</td>\n",
       "    </tr>\n",
       "    <tr>\n",
       "      <th>1</th>\n",
       "      <td>20668</td>\n",
       "      <td>Bolt</td>\n",
       "      <td>536796</td>\n",
       "      <td>2016-12-02 00:00:00</td>\n",
       "      <td>15574</td>\n",
       "      <td>-0.009293</td>\n",
       "      <td>NORTH</td>\n",
       "      <td>29.290928</td>\n",
       "      <td>29.563142</td>\n",
       "      <td>-0.272214</td>\n",
       "    </tr>\n",
       "    <tr>\n",
       "      <th>2</th>\n",
       "      <td>20668</td>\n",
       "      <td>Bolt</td>\n",
       "      <td>536813</td>\n",
       "      <td>2016-12-02 00:00:00</td>\n",
       "      <td>15646</td>\n",
       "      <td>0.000303</td>\n",
       "      <td>NORTH</td>\n",
       "      <td>12.236736</td>\n",
       "      <td>12.233024</td>\n",
       "      <td>0.003712</td>\n",
       "    </tr>\n",
       "    <tr>\n",
       "      <th>3</th>\n",
       "      <td>20668</td>\n",
       "      <td>Bolt</td>\n",
       "      <td>536975</td>\n",
       "      <td>2016-12-03 00:00:00</td>\n",
       "      <td>14911</td>\n",
       "      <td>-0.003594</td>\n",
       "      <td>NORTH</td>\n",
       "      <td>12.189216</td>\n",
       "      <td>12.233024</td>\n",
       "      <td>-0.043808</td>\n",
       "    </tr>\n",
       "    <tr>\n",
       "      <th>4</th>\n",
       "      <td>20668</td>\n",
       "      <td>Bolt</td>\n",
       "      <td>536876</td>\n",
       "      <td>2016-12-03 00:00:00</td>\n",
       "      <td>13576</td>\n",
       "      <td>0.002206</td>\n",
       "      <td>NORTH</td>\n",
       "      <td>13.281736</td>\n",
       "      <td>13.252443</td>\n",
       "      <td>0.029293</td>\n",
       "    </tr>\n",
       "  </tbody>\n",
       "</table>\n",
       "</div>"
      ],
      "text/plain": [
       "  StockCode Commodity InvoiceNo         Invoice Date  CustomerID       GM%  \\\n",
       "0     20668      Bolt    536390  2016-12-01 00:00:00       17511 -0.004235   \n",
       "1     20668      Bolt    536796  2016-12-02 00:00:00       15574 -0.009293   \n",
       "2     20668      Bolt    536813  2016-12-02 00:00:00       15646  0.000303   \n",
       "3     20668      Bolt    536975  2016-12-03 00:00:00       14911 -0.003594   \n",
       "4     20668      Bolt    536876  2016-12-03 00:00:00       13576  0.002206   \n",
       "\n",
       "  REGION  Ext-Price   EXT COST    Profit  \n",
       "0  SOUTH  13.196560  13.252443 -0.055883  \n",
       "1  NORTH  29.290928  29.563142 -0.272214  \n",
       "2  NORTH  12.236736  12.233024  0.003712  \n",
       "3  NORTH  12.189216  12.233024 -0.043808  \n",
       "4  NORTH  13.281736  13.252443  0.029293  "
      ]
     },
     "execution_count": 32,
     "metadata": {},
     "output_type": "execute_result"
    }
   ],
   "source": [
    "df_merged.head()"
   ]
  },
  {
   "cell_type": "markdown",
   "metadata": {},
   "source": [
    "# K-Means"
   ]
  },
  {
   "cell_type": "code",
   "execution_count": 33,
   "metadata": {},
   "outputs": [],
   "source": [
    "from sklearn.cluster import KMeans"
   ]
  },
  {
   "cell_type": "code",
   "execution_count": 34,
   "metadata": {},
   "outputs": [],
   "source": [
    "df_merged_new = pd.DataFrame(df_merged)"
   ]
  },
  {
   "cell_type": "code",
   "execution_count": 35,
   "metadata": {},
   "outputs": [
    {
     "data": {
      "text/html": [
       "<div>\n",
       "<style scoped>\n",
       "    .dataframe tbody tr th:only-of-type {\n",
       "        vertical-align: middle;\n",
       "    }\n",
       "\n",
       "    .dataframe tbody tr th {\n",
       "        vertical-align: top;\n",
       "    }\n",
       "\n",
       "    .dataframe thead th {\n",
       "        text-align: right;\n",
       "    }\n",
       "</style>\n",
       "<table border=\"1\" class=\"dataframe\">\n",
       "  <thead>\n",
       "    <tr style=\"text-align: right;\">\n",
       "      <th></th>\n",
       "      <th>StockCode</th>\n",
       "      <th>Commodity</th>\n",
       "      <th>InvoiceNo</th>\n",
       "      <th>Invoice Date</th>\n",
       "      <th>CustomerID</th>\n",
       "      <th>GM%</th>\n",
       "      <th>REGION</th>\n",
       "      <th>Ext-Price</th>\n",
       "      <th>EXT COST</th>\n",
       "      <th>Profit</th>\n",
       "    </tr>\n",
       "  </thead>\n",
       "  <tbody>\n",
       "    <tr>\n",
       "      <th>0</th>\n",
       "      <td>20668</td>\n",
       "      <td>Bolt</td>\n",
       "      <td>536390</td>\n",
       "      <td>2016-12-01 00:00:00</td>\n",
       "      <td>17511</td>\n",
       "      <td>-0.004235</td>\n",
       "      <td>SOUTH</td>\n",
       "      <td>13.196560</td>\n",
       "      <td>13.252443</td>\n",
       "      <td>-0.055883</td>\n",
       "    </tr>\n",
       "    <tr>\n",
       "      <th>1</th>\n",
       "      <td>20668</td>\n",
       "      <td>Bolt</td>\n",
       "      <td>536796</td>\n",
       "      <td>2016-12-02 00:00:00</td>\n",
       "      <td>15574</td>\n",
       "      <td>-0.009293</td>\n",
       "      <td>NORTH</td>\n",
       "      <td>29.290928</td>\n",
       "      <td>29.563142</td>\n",
       "      <td>-0.272214</td>\n",
       "    </tr>\n",
       "    <tr>\n",
       "      <th>2</th>\n",
       "      <td>20668</td>\n",
       "      <td>Bolt</td>\n",
       "      <td>536813</td>\n",
       "      <td>2016-12-02 00:00:00</td>\n",
       "      <td>15646</td>\n",
       "      <td>0.000303</td>\n",
       "      <td>NORTH</td>\n",
       "      <td>12.236736</td>\n",
       "      <td>12.233024</td>\n",
       "      <td>0.003712</td>\n",
       "    </tr>\n",
       "    <tr>\n",
       "      <th>3</th>\n",
       "      <td>20668</td>\n",
       "      <td>Bolt</td>\n",
       "      <td>536975</td>\n",
       "      <td>2016-12-03 00:00:00</td>\n",
       "      <td>14911</td>\n",
       "      <td>-0.003594</td>\n",
       "      <td>NORTH</td>\n",
       "      <td>12.189216</td>\n",
       "      <td>12.233024</td>\n",
       "      <td>-0.043808</td>\n",
       "    </tr>\n",
       "    <tr>\n",
       "      <th>4</th>\n",
       "      <td>20668</td>\n",
       "      <td>Bolt</td>\n",
       "      <td>536876</td>\n",
       "      <td>2016-12-03 00:00:00</td>\n",
       "      <td>13576</td>\n",
       "      <td>0.002206</td>\n",
       "      <td>NORTH</td>\n",
       "      <td>13.281736</td>\n",
       "      <td>13.252443</td>\n",
       "      <td>0.029293</td>\n",
       "    </tr>\n",
       "  </tbody>\n",
       "</table>\n",
       "</div>"
      ],
      "text/plain": [
       "  StockCode Commodity InvoiceNo         Invoice Date  CustomerID       GM%  \\\n",
       "0     20668      Bolt    536390  2016-12-01 00:00:00       17511 -0.004235   \n",
       "1     20668      Bolt    536796  2016-12-02 00:00:00       15574 -0.009293   \n",
       "2     20668      Bolt    536813  2016-12-02 00:00:00       15646  0.000303   \n",
       "3     20668      Bolt    536975  2016-12-03 00:00:00       14911 -0.003594   \n",
       "4     20668      Bolt    536876  2016-12-03 00:00:00       13576  0.002206   \n",
       "\n",
       "  REGION  Ext-Price   EXT COST    Profit  \n",
       "0  SOUTH  13.196560  13.252443 -0.055883  \n",
       "1  NORTH  29.290928  29.563142 -0.272214  \n",
       "2  NORTH  12.236736  12.233024  0.003712  \n",
       "3  NORTH  12.189216  12.233024 -0.043808  \n",
       "4  NORTH  13.281736  13.252443  0.029293  "
      ]
     },
     "execution_count": 35,
     "metadata": {},
     "output_type": "execute_result"
    }
   ],
   "source": [
    "df_merged.head()"
   ]
  },
  {
   "cell_type": "code",
   "execution_count": 36,
   "metadata": {},
   "outputs": [
    {
     "data": {
      "text/plain": [
       "StockCode       0\n",
       "Commodity       0\n",
       "InvoiceNo       0\n",
       "Invoice Date    0\n",
       "CustomerID      0\n",
       "GM%             0\n",
       "REGION          0\n",
       "Ext-Price       0\n",
       "EXT COST        0\n",
       "Profit          0\n",
       "dtype: int64"
      ]
     },
     "execution_count": 36,
     "metadata": {},
     "output_type": "execute_result"
    }
   ],
   "source": [
    "df_merged_new.isnull().sum()"
   ]
  },
  {
   "cell_type": "code",
   "execution_count": 37,
   "metadata": {},
   "outputs": [
    {
     "data": {
      "text/html": [
       "<div>\n",
       "<style scoped>\n",
       "    .dataframe tbody tr th:only-of-type {\n",
       "        vertical-align: middle;\n",
       "    }\n",
       "\n",
       "    .dataframe tbody tr th {\n",
       "        vertical-align: top;\n",
       "    }\n",
       "\n",
       "    .dataframe thead th {\n",
       "        text-align: right;\n",
       "    }\n",
       "</style>\n",
       "<table border=\"1\" class=\"dataframe\">\n",
       "  <thead>\n",
       "    <tr style=\"text-align: right;\">\n",
       "      <th></th>\n",
       "      <th>StockCode</th>\n",
       "      <th>Commodity</th>\n",
       "      <th>InvoiceNo</th>\n",
       "      <th>Invoice Date</th>\n",
       "      <th>CustomerID</th>\n",
       "      <th>GM%</th>\n",
       "      <th>REGION</th>\n",
       "      <th>Ext-Price</th>\n",
       "      <th>EXT COST</th>\n",
       "      <th>Profit</th>\n",
       "    </tr>\n",
       "  </thead>\n",
       "  <tbody>\n",
       "    <tr>\n",
       "      <th>0</th>\n",
       "      <td>20668</td>\n",
       "      <td>Bolt</td>\n",
       "      <td>536390</td>\n",
       "      <td>2016-12-01 00:00:00</td>\n",
       "      <td>17511</td>\n",
       "      <td>-0.004235</td>\n",
       "      <td>SOUTH</td>\n",
       "      <td>13.196560</td>\n",
       "      <td>13.252443</td>\n",
       "      <td>-0.055883</td>\n",
       "    </tr>\n",
       "    <tr>\n",
       "      <th>1</th>\n",
       "      <td>20668</td>\n",
       "      <td>Bolt</td>\n",
       "      <td>536796</td>\n",
       "      <td>2016-12-02 00:00:00</td>\n",
       "      <td>15574</td>\n",
       "      <td>-0.009293</td>\n",
       "      <td>NORTH</td>\n",
       "      <td>29.290928</td>\n",
       "      <td>29.563142</td>\n",
       "      <td>-0.272214</td>\n",
       "    </tr>\n",
       "    <tr>\n",
       "      <th>2</th>\n",
       "      <td>20668</td>\n",
       "      <td>Bolt</td>\n",
       "      <td>536813</td>\n",
       "      <td>2016-12-02 00:00:00</td>\n",
       "      <td>15646</td>\n",
       "      <td>0.000303</td>\n",
       "      <td>NORTH</td>\n",
       "      <td>12.236736</td>\n",
       "      <td>12.233024</td>\n",
       "      <td>0.003712</td>\n",
       "    </tr>\n",
       "    <tr>\n",
       "      <th>3</th>\n",
       "      <td>20668</td>\n",
       "      <td>Bolt</td>\n",
       "      <td>536975</td>\n",
       "      <td>2016-12-03 00:00:00</td>\n",
       "      <td>14911</td>\n",
       "      <td>-0.003594</td>\n",
       "      <td>NORTH</td>\n",
       "      <td>12.189216</td>\n",
       "      <td>12.233024</td>\n",
       "      <td>-0.043808</td>\n",
       "    </tr>\n",
       "    <tr>\n",
       "      <th>4</th>\n",
       "      <td>20668</td>\n",
       "      <td>Bolt</td>\n",
       "      <td>536876</td>\n",
       "      <td>2016-12-03 00:00:00</td>\n",
       "      <td>13576</td>\n",
       "      <td>0.002206</td>\n",
       "      <td>NORTH</td>\n",
       "      <td>13.281736</td>\n",
       "      <td>13.252443</td>\n",
       "      <td>0.029293</td>\n",
       "    </tr>\n",
       "  </tbody>\n",
       "</table>\n",
       "</div>"
      ],
      "text/plain": [
       "  StockCode Commodity InvoiceNo         Invoice Date  CustomerID       GM%  \\\n",
       "0     20668      Bolt    536390  2016-12-01 00:00:00       17511 -0.004235   \n",
       "1     20668      Bolt    536796  2016-12-02 00:00:00       15574 -0.009293   \n",
       "2     20668      Bolt    536813  2016-12-02 00:00:00       15646  0.000303   \n",
       "3     20668      Bolt    536975  2016-12-03 00:00:00       14911 -0.003594   \n",
       "4     20668      Bolt    536876  2016-12-03 00:00:00       13576  0.002206   \n",
       "\n",
       "  REGION  Ext-Price   EXT COST    Profit  \n",
       "0  SOUTH  13.196560  13.252443 -0.055883  \n",
       "1  NORTH  29.290928  29.563142 -0.272214  \n",
       "2  NORTH  12.236736  12.233024  0.003712  \n",
       "3  NORTH  12.189216  12.233024 -0.043808  \n",
       "4  NORTH  13.281736  13.252443  0.029293  "
      ]
     },
     "execution_count": 37,
     "metadata": {},
     "output_type": "execute_result"
    }
   ],
   "source": [
    "df_merged_new.head()"
   ]
  },
  {
   "cell_type": "code",
   "execution_count": 38,
   "metadata": {},
   "outputs": [],
   "source": [
    "df_merged_new['Commodity'] = df_merged_new['Commodity'].astype('category')"
   ]
  },
  {
   "cell_type": "code",
   "execution_count": 39,
   "metadata": {},
   "outputs": [],
   "source": [
    "df_merged_new['Commodity'] = pd.factorize(df_merged_new['Commodity'], sort=True)[0] + 1 "
   ]
  },
  {
   "cell_type": "markdown",
   "metadata": {},
   "source": [
    "# GM Clustering"
   ]
  },
  {
   "cell_type": "code",
   "execution_count": 40,
   "metadata": {},
   "outputs": [
    {
     "data": {
      "text/html": [
       "<div>\n",
       "<style scoped>\n",
       "    .dataframe tbody tr th:only-of-type {\n",
       "        vertical-align: middle;\n",
       "    }\n",
       "\n",
       "    .dataframe tbody tr th {\n",
       "        vertical-align: top;\n",
       "    }\n",
       "\n",
       "    .dataframe thead th {\n",
       "        text-align: right;\n",
       "    }\n",
       "</style>\n",
       "<table border=\"1\" class=\"dataframe\">\n",
       "  <thead>\n",
       "    <tr style=\"text-align: right;\">\n",
       "      <th></th>\n",
       "      <th>StockCode</th>\n",
       "      <th>Commodity</th>\n",
       "      <th>InvoiceNo</th>\n",
       "      <th>Invoice Date</th>\n",
       "      <th>CustomerID</th>\n",
       "      <th>GM%</th>\n",
       "      <th>REGION</th>\n",
       "      <th>Ext-Price</th>\n",
       "      <th>EXT COST</th>\n",
       "      <th>Profit</th>\n",
       "    </tr>\n",
       "  </thead>\n",
       "  <tbody>\n",
       "    <tr>\n",
       "      <th>0</th>\n",
       "      <td>20668</td>\n",
       "      <td>1</td>\n",
       "      <td>536390</td>\n",
       "      <td>2016-12-01 00:00:00</td>\n",
       "      <td>17511</td>\n",
       "      <td>-0.004235</td>\n",
       "      <td>SOUTH</td>\n",
       "      <td>13.196560</td>\n",
       "      <td>13.252443</td>\n",
       "      <td>-0.055883</td>\n",
       "    </tr>\n",
       "    <tr>\n",
       "      <th>1</th>\n",
       "      <td>20668</td>\n",
       "      <td>1</td>\n",
       "      <td>536796</td>\n",
       "      <td>2016-12-02 00:00:00</td>\n",
       "      <td>15574</td>\n",
       "      <td>-0.009293</td>\n",
       "      <td>NORTH</td>\n",
       "      <td>29.290928</td>\n",
       "      <td>29.563142</td>\n",
       "      <td>-0.272214</td>\n",
       "    </tr>\n",
       "    <tr>\n",
       "      <th>2</th>\n",
       "      <td>20668</td>\n",
       "      <td>1</td>\n",
       "      <td>536813</td>\n",
       "      <td>2016-12-02 00:00:00</td>\n",
       "      <td>15646</td>\n",
       "      <td>0.000303</td>\n",
       "      <td>NORTH</td>\n",
       "      <td>12.236736</td>\n",
       "      <td>12.233024</td>\n",
       "      <td>0.003712</td>\n",
       "    </tr>\n",
       "    <tr>\n",
       "      <th>3</th>\n",
       "      <td>20668</td>\n",
       "      <td>1</td>\n",
       "      <td>536975</td>\n",
       "      <td>2016-12-03 00:00:00</td>\n",
       "      <td>14911</td>\n",
       "      <td>-0.003594</td>\n",
       "      <td>NORTH</td>\n",
       "      <td>12.189216</td>\n",
       "      <td>12.233024</td>\n",
       "      <td>-0.043808</td>\n",
       "    </tr>\n",
       "    <tr>\n",
       "      <th>4</th>\n",
       "      <td>20668</td>\n",
       "      <td>1</td>\n",
       "      <td>536876</td>\n",
       "      <td>2016-12-03 00:00:00</td>\n",
       "      <td>13576</td>\n",
       "      <td>0.002206</td>\n",
       "      <td>NORTH</td>\n",
       "      <td>13.281736</td>\n",
       "      <td>13.252443</td>\n",
       "      <td>0.029293</td>\n",
       "    </tr>\n",
       "  </tbody>\n",
       "</table>\n",
       "</div>"
      ],
      "text/plain": [
       "  StockCode  Commodity InvoiceNo         Invoice Date  CustomerID       GM%  \\\n",
       "0     20668          1    536390  2016-12-01 00:00:00       17511 -0.004235   \n",
       "1     20668          1    536796  2016-12-02 00:00:00       15574 -0.009293   \n",
       "2     20668          1    536813  2016-12-02 00:00:00       15646  0.000303   \n",
       "3     20668          1    536975  2016-12-03 00:00:00       14911 -0.003594   \n",
       "4     20668          1    536876  2016-12-03 00:00:00       13576  0.002206   \n",
       "\n",
       "  REGION  Ext-Price   EXT COST    Profit  \n",
       "0  SOUTH  13.196560  13.252443 -0.055883  \n",
       "1  NORTH  29.290928  29.563142 -0.272214  \n",
       "2  NORTH  12.236736  12.233024  0.003712  \n",
       "3  NORTH  12.189216  12.233024 -0.043808  \n",
       "4  NORTH  13.281736  13.252443  0.029293  "
      ]
     },
     "execution_count": 40,
     "metadata": {},
     "output_type": "execute_result"
    }
   ],
   "source": [
    "df_merged_new.head()"
   ]
  },
  {
   "cell_type": "code",
   "execution_count": 41,
   "metadata": {},
   "outputs": [],
   "source": [
    "gm = pd.DataFrame(df_merged_new[['Commodity', 'GM%', 'Profit']])"
   ]
  },
  {
   "cell_type": "code",
   "execution_count": 42,
   "metadata": {},
   "outputs": [],
   "source": [
    "X1 = gm.values"
   ]
  },
  {
   "cell_type": "code",
   "execution_count": 43,
   "metadata": {},
   "outputs": [
    {
     "data": {
      "image/png": "[encoded data removed]",
      "text/plain": [
       "<Figure size 432x288 with 1 Axes>"
      ]
     },
     "metadata": {
      "needs_background": "light"
     },
     "output_type": "display_data"
    }
   ],
   "source": [
    "sse = []\n",
    "for k in range(1,8):\n",
    "    \n",
    "    kmeans1 = KMeans(n_clusters = k)\n",
    "    kmeans1.fit(X1)\n",
    "    \n",
    "    sse.append(kmeans1.inertia_) #SSE for each n_clusters\n",
    "plt.plot(range(1,8), sse)\n",
    "plt.title(\"Elbow Curve\")\n",
    "plt.show()"
   ]
  },
  {
   "cell_type": "code",
   "execution_count": 44,
   "metadata": {},
   "outputs": [
    {
     "data": {
      "text/plain": [
       "KMeans(algorithm='auto', copy_x=True, init='k-means++', max_iter=100,\n",
       "    n_clusters=3, n_init=1, n_jobs=None, precompute_distances='auto',\n",
       "    random_state=1, tol=0.0001, verbose=0)"
      ]
     },
     "execution_count": 44,
     "metadata": {},
     "output_type": "execute_result"
    }
   ],
   "source": [
    "kmeans2 = KMeans(n_clusters=3, init='k-means++', \n",
    "            max_iter=100, n_init=1, verbose=0, random_state=1)\n",
    "kmeans2.fit(X1)"
   ]
  },
  {
   "cell_type": "code",
   "execution_count": 45,
   "metadata": {},
   "outputs": [],
   "source": [
    "y_pred_gm = kmeans2.fit_predict(X1)"
   ]
  },
  {
   "cell_type": "code",
   "execution_count": 46,
   "metadata": {},
   "outputs": [
    {
     "data": {
      "text/plain": [
       "Text(0.5, 1.0, 'GM Cluster')"
      ]
     },
     "execution_count": 46,
     "metadata": {},
     "output_type": "execute_result"
    },
    {
     "data": {
      "image/png": "[encoded data removed]",
      "text/plain": [
       "<Figure size 432x288 with 1 Axes>"
      ]
     },
     "metadata": {
      "needs_background": "light"
     },
     "output_type": "display_data"
    }
   ],
   "source": [
    "plt.scatter(X1[y_pred_gm == 0, 0], X1[y_pred_gm == 0, 1], s = 100, c = 'red', label = 'Cluster 1')\n",
    "plt.scatter(X1[y_pred_gm == 1, 0], X1[y_pred_gm == 1, 1], s = 100, c = 'blue', label = 'Cluster 2')\n",
    "plt.scatter(X1[y_pred_gm == 2, 0], X1[y_pred_gm == 2, 1], s = 100, c = 'green', label = 'Cluster 3')\n",
    "\n",
    "#Plotting the centroids of the clusters\n",
    "plt.legend()\n",
    "plt.title('GM Cluster')"
   ]
  },
  {
   "cell_type": "code",
   "execution_count": 47,
   "metadata": {},
   "outputs": [],
   "source": [
    "df_merged_new['Commodity'] = df_merged_new['Commodity'].replace({1: 'Bolts', 2: 'Nuts', 3: 'Screws', 4: 'Studs', 5: 'Washers'})"
   ]
  },
  {
   "cell_type": "code",
   "execution_count": 48,
   "metadata": {},
   "outputs": [],
   "source": [
    "Commodity1 = pd.DataFrame(df_merged_new['Commodity'])\n",
    "cluster_labels_gm = pd.DataFrame(kmeans2.labels_)\n",
    "df_gm = pd.concat([Commodity1, cluster_labels_gm],axis = 1)"
   ]
  },
  {
   "cell_type": "code",
   "execution_count": 49,
   "metadata": {},
   "outputs": [],
   "source": [
    "df_gm['GM%'] = gm['GM%']"
   ]
  },
  {
   "cell_type": "code",
   "execution_count": 50,
   "metadata": {},
   "outputs": [],
   "source": [
    "df_gm['Profit'] = gm['Profit']"
   ]
  },
  {
   "cell_type": "code",
   "execution_count": 51,
   "metadata": {},
   "outputs": [],
   "source": [
    "df_gm.rename(columns = {0: 'Cluster'}, inplace=True)"
   ]
  },
  {
   "cell_type": "code",
   "execution_count": 52,
   "metadata": {},
   "outputs": [],
   "source": [
    "gm_total = df_gm['GM%'].sum()"
   ]
  },
  {
   "cell_type": "code",
   "execution_count": 53,
   "metadata": {},
   "outputs": [],
   "source": [
    "profit_total = df_gm['Profit'].sum()"
   ]
  },
  {
   "cell_type": "code",
   "execution_count": 54,
   "metadata": {},
   "outputs": [],
   "source": [
    "df_gm_cluster_1= df_gm.loc[df_gm['Cluster'] == 0]"
   ]
  },
  {
   "cell_type": "code",
   "execution_count": 55,
   "metadata": {},
   "outputs": [
    {
     "name": "stderr",
     "output_type": "stream",
     "text": [
      "C:\\Users\\shuti\\Anaconda3\\lib\\site-packages\\pandas\\core\\frame.py:3940: SettingWithCopyWarning: \n",
      "A value is trying to be set on a copy of a slice from a DataFrame\n",
      "\n",
      "See the caveats in the documentation: http://pandas.pydata.org/pandas-docs/stable/indexing.html#indexing-view-versus-copy\n",
      "  errors=errors)\n"
     ]
    }
   ],
   "source": [
    "df_gm_cluster_1.drop(['Cluster'], axis=1, inplace=True)"
   ]
  },
  {
   "cell_type": "code",
   "execution_count": 56,
   "metadata": {},
   "outputs": [],
   "source": [
    "df_gm_cluster_1_means = df_gm_cluster_1.groupby('Commodity')['GM%'].mean().reset_index()"
   ]
  },
  {
   "cell_type": "code",
   "execution_count": 57,
   "metadata": {},
   "outputs": [],
   "source": [
    "df_profit_cluster_1_means = df_gm_cluster_1.groupby('Commodity')['Profit'].mean().reset_index()"
   ]
  },
  {
   "cell_type": "code",
   "execution_count": 58,
   "metadata": {},
   "outputs": [
    {
     "data": {
      "text/html": [
       "<div>\n",
       "<style scoped>\n",
       "    .dataframe tbody tr th:only-of-type {\n",
       "        vertical-align: middle;\n",
       "    }\n",
       "\n",
       "    .dataframe tbody tr th {\n",
       "        vertical-align: top;\n",
       "    }\n",
       "\n",
       "    .dataframe thead th {\n",
       "        text-align: right;\n",
       "    }\n",
       "</style>\n",
       "<table border=\"1\" class=\"dataframe\">\n",
       "  <thead>\n",
       "    <tr style=\"text-align: right;\">\n",
       "      <th></th>\n",
       "      <th>Commodity</th>\n",
       "      <th>GM%</th>\n",
       "    </tr>\n",
       "  </thead>\n",
       "  <tbody>\n",
       "    <tr>\n",
       "      <th>0</th>\n",
       "      <td>Bolts</td>\n",
       "      <td>0.058976</td>\n",
       "    </tr>\n",
       "    <tr>\n",
       "      <th>1</th>\n",
       "      <td>Nuts</td>\n",
       "      <td>0.073892</td>\n",
       "    </tr>\n",
       "    <tr>\n",
       "      <th>2</th>\n",
       "      <td>Screws</td>\n",
       "      <td>0.105327</td>\n",
       "    </tr>\n",
       "    <tr>\n",
       "      <th>3</th>\n",
       "      <td>Studs</td>\n",
       "      <td>0.150907</td>\n",
       "    </tr>\n",
       "    <tr>\n",
       "      <th>4</th>\n",
       "      <td>Washers</td>\n",
       "      <td>0.045468</td>\n",
       "    </tr>\n",
       "  </tbody>\n",
       "</table>\n",
       "</div>"
      ],
      "text/plain": [
       "  Commodity       GM%\n",
       "0     Bolts  0.058976\n",
       "1      Nuts  0.073892\n",
       "2    Screws  0.105327\n",
       "3     Studs  0.150907\n",
       "4   Washers  0.045468"
      ]
     },
     "execution_count": 58,
     "metadata": {},
     "output_type": "execute_result"
    }
   ],
   "source": [
    "df_gm_cluster_1_means"
   ]
  },
  {
   "cell_type": "code",
   "execution_count": 59,
   "metadata": {},
   "outputs": [
    {
     "data": {
      "text/html": [
       "<div>\n",
       "<style scoped>\n",
       "    .dataframe tbody tr th:only-of-type {\n",
       "        vertical-align: middle;\n",
       "    }\n",
       "\n",
       "    .dataframe tbody tr th {\n",
       "        vertical-align: top;\n",
       "    }\n",
       "\n",
       "    .dataframe thead th {\n",
       "        text-align: right;\n",
       "    }\n",
       "</style>\n",
       "<table border=\"1\" class=\"dataframe\">\n",
       "  <thead>\n",
       "    <tr style=\"text-align: right;\">\n",
       "      <th></th>\n",
       "      <th>Commodity</th>\n",
       "      <th>Profit</th>\n",
       "    </tr>\n",
       "  </thead>\n",
       "  <tbody>\n",
       "    <tr>\n",
       "      <th>0</th>\n",
       "      <td>Bolts</td>\n",
       "      <td>9.424494</td>\n",
       "    </tr>\n",
       "    <tr>\n",
       "      <th>1</th>\n",
       "      <td>Nuts</td>\n",
       "      <td>8.291147</td>\n",
       "    </tr>\n",
       "    <tr>\n",
       "      <th>2</th>\n",
       "      <td>Screws</td>\n",
       "      <td>2.998969</td>\n",
       "    </tr>\n",
       "    <tr>\n",
       "      <th>3</th>\n",
       "      <td>Studs</td>\n",
       "      <td>13.643099</td>\n",
       "    </tr>\n",
       "    <tr>\n",
       "      <th>4</th>\n",
       "      <td>Washers</td>\n",
       "      <td>15.076943</td>\n",
       "    </tr>\n",
       "  </tbody>\n",
       "</table>\n",
       "</div>"
      ],
      "text/plain": [
       "  Commodity     Profit\n",
       "0     Bolts   9.424494\n",
       "1      Nuts   8.291147\n",
       "2    Screws   2.998969\n",
       "3     Studs  13.643099\n",
       "4   Washers  15.076943"
      ]
     },
     "execution_count": 59,
     "metadata": {},
     "output_type": "execute_result"
    }
   ],
   "source": [
    "df_profit_cluster_1_means"
   ]
  },
  {
   "cell_type": "code",
   "execution_count": 60,
   "metadata": {},
   "outputs": [],
   "source": [
    "gm_total_1 = df_gm_cluster_1['GM%'].sum()"
   ]
  },
  {
   "cell_type": "code",
   "execution_count": 61,
   "metadata": {},
   "outputs": [],
   "source": [
    "profit_total_1 = df_gm_cluster_1['Profit'].sum()"
   ]
  },
  {
   "cell_type": "code",
   "execution_count": 62,
   "metadata": {},
   "outputs": [
    {
     "name": "stdout",
     "output_type": "stream",
     "text": [
      "Cluster 1 Contribution (GM):  0.9998343906203866\n"
     ]
    }
   ],
   "source": [
    "gm_total_percent_1 = gm_total_1/gm_total\n",
    "print('Cluster 1 Contribution (GM): ', gm_total_percent_1)"
   ]
  },
  {
   "cell_type": "code",
   "execution_count": 63,
   "metadata": {},
   "outputs": [
    {
     "name": "stdout",
     "output_type": "stream",
     "text": [
      "Cluster 1 Contribution (Profit):  0.7288043997552953\n"
     ]
    }
   ],
   "source": [
    "profit_total_percent_1 = profit_total_1/profit_total\n",
    "print('Cluster 1 Contribution (Profit): ', profit_total_percent_1)"
   ]
  },
  {
   "cell_type": "code",
   "execution_count": 64,
   "metadata": {},
   "outputs": [
    {
     "name": "stdout",
     "output_type": "stream",
     "text": [
      "Bolts Contribution (GM):  0.14420984197448067\n"
     ]
    }
   ],
   "source": [
    "df_gm_cluster_1_c1= df_gm_cluster_1.loc[df_gm_cluster_1['Commodity'] == 'Bolts']\n",
    "gmcluster_1_c1 = df_gm_cluster_1_c1['GM%'].sum()\n",
    "gmpercent_cluster_1_c1= gmcluster_1_c1/gm_total_1\n",
    "print ('Bolts Contribution (GM): ',gmpercent_cluster_1_c1)"
   ]
  },
  {
   "cell_type": "code",
   "execution_count": 65,
   "metadata": {},
   "outputs": [
    {
     "name": "stdout",
     "output_type": "stream",
     "text": [
      "Nuts Contribution (GM):  0.22936881594052672\n"
     ]
    }
   ],
   "source": [
    "df_gm_cluster_1_c2= df_gm_cluster_1.loc[df_gm_cluster_1['Commodity'] == 'Nuts']\n",
    "gmcluster_1_c2 = df_gm_cluster_1_c2['GM%'].sum()\n",
    "gmpercent_cluster_1_c2= gmcluster_1_c2/gm_total_1\n",
    "print ('Nuts Contribution (GM): ',gmpercent_cluster_1_c2)"
   ]
  },
  {
   "cell_type": "code",
   "execution_count": 66,
   "metadata": {},
   "outputs": [
    {
     "name": "stdout",
     "output_type": "stream",
     "text": [
      "Screws Contribution (GM):  0.30858030686199767\n"
     ]
    }
   ],
   "source": [
    "df_gm_cluster_1_c3= df_gm_cluster_1.loc[df_gm_cluster_1['Commodity'] == 'Screws']\n",
    "gmcluster_1_c3 = df_gm_cluster_1_c3['GM%'].sum()\n",
    "gmpercent_cluster_1_c3= gmcluster_1_c3/gm_total_1\n",
    "print ('Screws Contribution (GM): ',gmpercent_cluster_1_c3)"
   ]
  },
  {
   "cell_type": "code",
   "execution_count": 67,
   "metadata": {},
   "outputs": [
    {
     "name": "stdout",
     "output_type": "stream",
     "text": [
      "Studs Contribution (GM):  0.1438746182006145\n"
     ]
    }
   ],
   "source": [
    "df_gm_cluster_1_c4= df_gm_cluster_1.loc[df_gm_cluster_1['Commodity'] == 'Studs']\n",
    "gmcluster_1_c4 = df_gm_cluster_1_c4['GM%'].sum()\n",
    "gmpercent_cluster_1_c4= gmcluster_1_c4/gm_total_1\n",
    "print ('Studs Contribution (GM): ',gmpercent_cluster_1_c4)"
   ]
  },
  {
   "cell_type": "code",
   "execution_count": 68,
   "metadata": {},
   "outputs": [
    {
     "name": "stdout",
     "output_type": "stream",
     "text": [
      "Washers Contribution (GM):  0.17396641702238055\n"
     ]
    }
   ],
   "source": [
    "df_gm_cluster_1_c5= df_gm_cluster_1.loc[df_gm_cluster_1['Commodity'] == 'Washers']\n",
    "gmcluster_1_c5 = df_gm_cluster_1_c5['GM%'].sum()\n",
    "gmpercent_cluster_1_c5 = gmcluster_1_c5/gm_total_1\n",
    "print ('Washers Contribution (GM): ',gmpercent_cluster_1_c5)"
   ]
  },
  {
   "cell_type": "code",
   "execution_count": 69,
   "metadata": {},
   "outputs": [
    {
     "name": "stdout",
     "output_type": "stream",
     "text": [
      "Bolts Contribution (Profit):  0.1796729092818313\n"
     ]
    }
   ],
   "source": [
    "df_profit_cluster_1_c1= df_gm_cluster_1.loc[df_gm_cluster_1['Commodity'] == 'Bolts']\n",
    "profitcluster_1_c1 = df_profit_cluster_1_c1['Profit'].sum()\n",
    "profitpercent_cluster_1_c1= profitcluster_1_c1/profit_total_1\n",
    "print ('Bolts Contribution (Profit): ',profitpercent_cluster_1_c1)"
   ]
  },
  {
   "cell_type": "code",
   "execution_count": 70,
   "metadata": {},
   "outputs": [
    {
     "name": "stdout",
     "output_type": "stream",
     "text": [
      "Nuts Contribution (Profit):  0.2006565218254823\n"
     ]
    }
   ],
   "source": [
    "df_profit_cluster_1_c2 = df_gm_cluster_1.loc[df_gm_cluster_1['Commodity'] == 'Nuts']\n",
    "profitcluster_1_c2 = df_profit_cluster_1_c2['Profit'].sum()\n",
    "profitpercent_cluster_1_c2 = profitcluster_1_c2/profit_total_1\n",
    "print ('Nuts Contribution (Profit): ',profitpercent_cluster_1_c2)"
   ]
  },
  {
   "cell_type": "code",
   "execution_count": 71,
   "metadata": {},
   "outputs": [
    {
     "name": "stdout",
     "output_type": "stream",
     "text": [
      "Screws Contribution (Profit):  0.06850202143040728\n"
     ]
    }
   ],
   "source": [
    "df_profit_cluster_1_c3= df_gm_cluster_1.loc[df_gm_cluster_1['Commodity'] == 'Screws']\n",
    "profitcluster_1_c3 = df_profit_cluster_1_c3['Profit'].sum()\n",
    "profitpercent_cluster_1_c3= profitcluster_1_c3/profit_total_1\n",
    "print ('Screws Contribution (Profit): ',profitpercent_cluster_1_c3)"
   ]
  },
  {
   "cell_type": "code",
   "execution_count": 72,
   "metadata": {},
   "outputs": [
    {
     "name": "stdout",
     "output_type": "stream",
     "text": [
      "Studs Contribution (Profit):  0.10141208063798948\n"
     ]
    }
   ],
   "source": [
    "df_profit_cluster_1_c4= df_gm_cluster_1.loc[df_gm_cluster_1['Commodity'] == 'Studs']\n",
    "profitcluster_1_c4 = df_profit_cluster_1_c4['Profit'].sum()\n",
    "profitpercent_cluster_1_c4= profitcluster_1_c4/profit_total_1\n",
    "print ('Studs Contribution (Profit): ',profitpercent_cluster_1_c4)"
   ]
  },
  {
   "cell_type": "code",
   "execution_count": 73,
   "metadata": {},
   "outputs": [
    {
     "name": "stdout",
     "output_type": "stream",
     "text": [
      "Washers Contribution (Profit):  0.4497564668242897\n"
     ]
    }
   ],
   "source": [
    "df_profit_cluster_1_c5 = df_gm_cluster_1.loc[df_gm_cluster_1['Commodity'] == 'Washers']\n",
    "profitcluster_1_c5 = df_profit_cluster_1_c5['Profit'].sum()\n",
    "profitpercent_cluster_1_c5 = profitcluster_1_c5/profit_total_1\n",
    "print ('Washers Contribution (Profit): ',profitpercent_cluster_1_c5)"
   ]
  },
  {
   "cell_type": "code",
   "execution_count": 74,
   "metadata": {},
   "outputs": [],
   "source": [
    "df_gm_cluster_2= df_gm.loc[df_gm['Cluster'] == 1]"
   ]
  },
  {
   "cell_type": "code",
   "execution_count": 75,
   "metadata": {},
   "outputs": [],
   "source": [
    "df_gm_cluster_2.drop(['Cluster'], axis=1, inplace=True)"
   ]
  },
  {
   "cell_type": "code",
   "execution_count": 76,
   "metadata": {},
   "outputs": [],
   "source": [
    "df_gm_cluster_2_means = df_gm_cluster_2.groupby('Commodity')['GM%'].mean().reset_index()"
   ]
  },
  {
   "cell_type": "code",
   "execution_count": 77,
   "metadata": {},
   "outputs": [],
   "source": [
    "df_profit_cluster_2_means = df_gm_cluster_2.groupby('Commodity')['Profit'].mean().reset_index()"
   ]
  },
  {
   "cell_type": "code",
   "execution_count": 78,
   "metadata": {},
   "outputs": [
    {
     "data": {
      "text/html": [
       "<div>\n",
       "<style scoped>\n",
       "    .dataframe tbody tr th:only-of-type {\n",
       "        vertical-align: middle;\n",
       "    }\n",
       "\n",
       "    .dataframe tbody tr th {\n",
       "        vertical-align: top;\n",
       "    }\n",
       "\n",
       "    .dataframe thead th {\n",
       "        text-align: right;\n",
       "    }\n",
       "</style>\n",
       "<table border=\"1\" class=\"dataframe\">\n",
       "  <thead>\n",
       "    <tr style=\"text-align: right;\">\n",
       "      <th></th>\n",
       "      <th>Commodity</th>\n",
       "      <th>GM%</th>\n",
       "    </tr>\n",
       "  </thead>\n",
       "  <tbody>\n",
       "    <tr>\n",
       "      <th>0</th>\n",
       "      <td>Washers</td>\n",
       "      <td>0.835047</td>\n",
       "    </tr>\n",
       "  </tbody>\n",
       "</table>\n",
       "</div>"
      ],
      "text/plain": [
       "  Commodity       GM%\n",
       "0   Washers  0.835047"
      ]
     },
     "execution_count": 78,
     "metadata": {},
     "output_type": "execute_result"
    }
   ],
   "source": [
    "df_gm_cluster_2_means"
   ]
  },
  {
   "cell_type": "code",
   "execution_count": 79,
   "metadata": {},
   "outputs": [
    {
     "data": {
      "text/html": [
       "<div>\n",
       "<style scoped>\n",
       "    .dataframe tbody tr th:only-of-type {\n",
       "        vertical-align: middle;\n",
       "    }\n",
       "\n",
       "    .dataframe tbody tr th {\n",
       "        vertical-align: top;\n",
       "    }\n",
       "\n",
       "    .dataframe thead th {\n",
       "        text-align: right;\n",
       "    }\n",
       "</style>\n",
       "<table border=\"1\" class=\"dataframe\">\n",
       "  <thead>\n",
       "    <tr style=\"text-align: right;\">\n",
       "      <th></th>\n",
       "      <th>Commodity</th>\n",
       "      <th>Profit</th>\n",
       "    </tr>\n",
       "  </thead>\n",
       "  <tbody>\n",
       "    <tr>\n",
       "      <th>0</th>\n",
       "      <td>Washers</td>\n",
       "      <td>453665.592324</td>\n",
       "    </tr>\n",
       "  </tbody>\n",
       "</table>\n",
       "</div>"
      ],
      "text/plain": [
       "  Commodity         Profit\n",
       "0   Washers  453665.592324"
      ]
     },
     "execution_count": 79,
     "metadata": {},
     "output_type": "execute_result"
    }
   ],
   "source": [
    "df_profit_cluster_2_means"
   ]
  },
  {
   "cell_type": "code",
   "execution_count": 80,
   "metadata": {},
   "outputs": [],
   "source": [
    "gm_total_2 = df_gm_cluster_2['GM%'].sum()"
   ]
  },
  {
   "cell_type": "code",
   "execution_count": 81,
   "metadata": {},
   "outputs": [],
   "source": [
    "profit_total_2 = df_gm_cluster_2['Profit'].sum()"
   ]
  },
  {
   "cell_type": "code",
   "execution_count": 82,
   "metadata": {},
   "outputs": [
    {
     "name": "stdout",
     "output_type": "stream",
     "text": [
      "Cluster 2 Contribution (GM):  3.9933845733363135e-05\n"
     ]
    }
   ],
   "source": [
    "gm_total_percent_2 = gm_total_2/gm_total\n",
    "print('Cluster 2 Contribution (GM): ', gm_total_percent_2)"
   ]
  },
  {
   "cell_type": "code",
   "execution_count": 83,
   "metadata": {},
   "outputs": [
    {
     "name": "stdout",
     "output_type": "stream",
     "text": [
      "Cluster 2 Contribution (Profit):  0.12329652226993991\n"
     ]
    }
   ],
   "source": [
    "profit_total_percent_2 = profit_total_2/profit_total\n",
    "print('Cluster 2 Contribution (Profit): ', profit_total_percent_2)"
   ]
  },
  {
   "cell_type": "code",
   "execution_count": 84,
   "metadata": {},
   "outputs": [
    {
     "name": "stdout",
     "output_type": "stream",
     "text": [
      "Washers Contribution (GM):  1.0\n"
     ]
    }
   ],
   "source": [
    "df_gm_cluster_2_c1= df_gm_cluster_2.loc[df_gm_cluster_2['Commodity'] == 'Washers']\n",
    "gmcluster_2_c1 = df_gm_cluster_2_c1['GM%'].sum()\n",
    "gmpercent_cluster_2_c1= gmcluster_2_c1/gm_total_2\n",
    "print ('Washers Contribution (GM): ',gmpercent_cluster_2_c1)"
   ]
  },
  {
   "cell_type": "code",
   "execution_count": 85,
   "metadata": {},
   "outputs": [
    {
     "name": "stdout",
     "output_type": "stream",
     "text": [
      "Washers Contribution (Profit):  1.0\n"
     ]
    }
   ],
   "source": [
    "df_profit_cluster_2_c1= df_gm_cluster_2.loc[df_gm_cluster_2['Commodity'] == 'Washers']\n",
    "profitcluster_2_c1 = df_profit_cluster_2_c1['Profit'].sum()\n",
    "profitpercent_cluster_2_c1= profitcluster_2_c1/profit_total_2\n",
    "print ('Washers Contribution (Profit): ',profitpercent_cluster_2_c1)"
   ]
  },
  {
   "cell_type": "code",
   "execution_count": 86,
   "metadata": {},
   "outputs": [],
   "source": [
    "df_gm_cluster_3= df_gm.loc[df_gm['Cluster'] == 2]"
   ]
  },
  {
   "cell_type": "code",
   "execution_count": 87,
   "metadata": {},
   "outputs": [],
   "source": [
    "df_gm_cluster_3.drop(['Cluster'], axis=1, inplace=True)"
   ]
  },
  {
   "cell_type": "code",
   "execution_count": 88,
   "metadata": {},
   "outputs": [],
   "source": [
    "df_gm_cluster_3_means = df_gm_cluster_3.groupby('Commodity')['GM%'].mean().reset_index()"
   ]
  },
  {
   "cell_type": "code",
   "execution_count": 89,
   "metadata": {},
   "outputs": [],
   "source": [
    "df_profit_cluster_3_means = df_gm_cluster_3.groupby('Commodity')['Profit'].mean().reset_index()"
   ]
  },
  {
   "cell_type": "code",
   "execution_count": 90,
   "metadata": {},
   "outputs": [
    {
     "data": {
      "text/html": [
       "<div>\n",
       "<style scoped>\n",
       "    .dataframe tbody tr th:only-of-type {\n",
       "        vertical-align: middle;\n",
       "    }\n",
       "\n",
       "    .dataframe tbody tr th {\n",
       "        vertical-align: top;\n",
       "    }\n",
       "\n",
       "    .dataframe thead th {\n",
       "        text-align: right;\n",
       "    }\n",
       "</style>\n",
       "<table border=\"1\" class=\"dataframe\">\n",
       "  <thead>\n",
       "    <tr style=\"text-align: right;\">\n",
       "      <th></th>\n",
       "      <th>Commodity</th>\n",
       "      <th>GM%</th>\n",
       "    </tr>\n",
       "  </thead>\n",
       "  <tbody>\n",
       "    <tr>\n",
       "      <th>0</th>\n",
       "      <td>Bolts</td>\n",
       "      <td>0.287166</td>\n",
       "    </tr>\n",
       "    <tr>\n",
       "      <th>1</th>\n",
       "      <td>Nuts</td>\n",
       "      <td>0.329097</td>\n",
       "    </tr>\n",
       "    <tr>\n",
       "      <th>2</th>\n",
       "      <td>Studs</td>\n",
       "      <td>0.502788</td>\n",
       "    </tr>\n",
       "    <tr>\n",
       "      <th>3</th>\n",
       "      <td>Washers</td>\n",
       "      <td>0.590984</td>\n",
       "    </tr>\n",
       "  </tbody>\n",
       "</table>\n",
       "</div>"
      ],
      "text/plain": [
       "  Commodity       GM%\n",
       "0     Bolts  0.287166\n",
       "1      Nuts  0.329097\n",
       "2     Studs  0.502788\n",
       "3   Washers  0.590984"
      ]
     },
     "execution_count": 90,
     "metadata": {},
     "output_type": "execute_result"
    }
   ],
   "source": [
    "df_gm_cluster_3_means"
   ]
  },
  {
   "cell_type": "code",
   "execution_count": 91,
   "metadata": {},
   "outputs": [
    {
     "data": {
      "text/html": [
       "<div>\n",
       "<style scoped>\n",
       "    .dataframe tbody tr th:only-of-type {\n",
       "        vertical-align: middle;\n",
       "    }\n",
       "\n",
       "    .dataframe tbody tr th {\n",
       "        vertical-align: top;\n",
       "    }\n",
       "\n",
       "    .dataframe thead th {\n",
       "        text-align: right;\n",
       "    }\n",
       "</style>\n",
       "<table border=\"1\" class=\"dataframe\">\n",
       "  <thead>\n",
       "    <tr style=\"text-align: right;\">\n",
       "      <th></th>\n",
       "      <th>Commodity</th>\n",
       "      <th>Profit</th>\n",
       "    </tr>\n",
       "  </thead>\n",
       "  <tbody>\n",
       "    <tr>\n",
       "      <th>0</th>\n",
       "      <td>Bolts</td>\n",
       "      <td>108186.186607</td>\n",
       "    </tr>\n",
       "    <tr>\n",
       "      <th>1</th>\n",
       "      <td>Nuts</td>\n",
       "      <td>69228.408619</td>\n",
       "    </tr>\n",
       "    <tr>\n",
       "      <th>2</th>\n",
       "      <td>Studs</td>\n",
       "      <td>65949.053706</td>\n",
       "    </tr>\n",
       "    <tr>\n",
       "      <th>3</th>\n",
       "      <td>Washers</td>\n",
       "      <td>120716.594607</td>\n",
       "    </tr>\n",
       "  </tbody>\n",
       "</table>\n",
       "</div>"
      ],
      "text/plain": [
       "  Commodity         Profit\n",
       "0     Bolts  108186.186607\n",
       "1      Nuts   69228.408619\n",
       "2     Studs   65949.053706\n",
       "3   Washers  120716.594607"
      ]
     },
     "execution_count": 91,
     "metadata": {},
     "output_type": "execute_result"
    }
   ],
   "source": [
    "df_profit_cluster_3_means"
   ]
  },
  {
   "cell_type": "code",
   "execution_count": 92,
   "metadata": {},
   "outputs": [
    {
     "name": "stdout",
     "output_type": "stream",
     "text": [
      "Cluster 3 Contribution (GM):  0.00012567553388016773\n"
     ]
    }
   ],
   "source": [
    "gm_total_3 = df_gm_cluster_3['GM%'].sum()\n",
    "gm_total_percent_3 = gm_total_3/gm_total\n",
    "print('Cluster 3 Contribution (GM): ', gm_total_percent_3)"
   ]
  },
  {
   "cell_type": "code",
   "execution_count": 93,
   "metadata": {},
   "outputs": [
    {
     "name": "stdout",
     "output_type": "stream",
     "text": [
      "Cluster 3 Contribution (Profit):  0.1478990779747647\n"
     ]
    }
   ],
   "source": [
    "profit_total_3 = df_gm_cluster_3['Profit'].sum()\n",
    "profit_total_percent_3 = profit_total_3/profit_total\n",
    "print('Cluster 3 Contribution (Profit): ', profit_total_percent_3)"
   ]
  },
  {
   "cell_type": "code",
   "execution_count": 94,
   "metadata": {},
   "outputs": [
    {
     "name": "stdout",
     "output_type": "stream",
     "text": [
      "Bolts Contribution (GM):  0.05463649727962642\n"
     ]
    }
   ],
   "source": [
    "df_gm_cluster_3_c1= df_gm_cluster_3.loc[df_gm_cluster_3['Commodity'] == 'Bolts']\n",
    "gmcluster_3_c1 = df_gm_cluster_3_c1['GM%'].sum()\n",
    "gmpercent_cluster_3_c1= gmcluster_3_c1/gm_total_3\n",
    "print ('Bolts Contribution (GM): ',gmpercent_cluster_3_c1)"
   ]
  },
  {
   "cell_type": "code",
   "execution_count": 95,
   "metadata": {},
   "outputs": [
    {
     "name": "stdout",
     "output_type": "stream",
     "text": [
      "Nuts Contribution (GM):  0.06261430139286506\n"
     ]
    }
   ],
   "source": [
    "df_gm_cluster_3_c2= df_gm_cluster_3.loc[df_gm_cluster_3['Commodity'] == 'Nuts']\n",
    "gmcluster_3_c2 = df_gm_cluster_3_c2['GM%'].sum()\n",
    "gmpercent_cluster_3_c2= gmcluster_3_c2/gm_total_3\n",
    "print ('Nuts Contribution (GM): ',gmpercent_cluster_3_c2)"
   ]
  },
  {
   "cell_type": "code",
   "execution_count": 96,
   "metadata": {},
   "outputs": [
    {
     "name": "stdout",
     "output_type": "stream",
     "text": [
      "Studs Contribution (GM):  0.09566095683148332\n"
     ]
    }
   ],
   "source": [
    "df_gm_cluster_3_c3= df_gm_cluster_3.loc[df_gm_cluster_3['Commodity'] == 'Studs']\n",
    "gmcluster_3_c3 = df_gm_cluster_3_c3['GM%'].sum()\n",
    "gmpercent_cluster_3_c3= gmcluster_3_c3/gm_total_3\n",
    "print ('Studs Contribution (GM): ',gmpercent_cluster_3_c3)"
   ]
  },
  {
   "cell_type": "code",
   "execution_count": 97,
   "metadata": {},
   "outputs": [
    {
     "name": "stdout",
     "output_type": "stream",
     "text": [
      "Washers Contribution (GM):  0.7870882444960251\n"
     ]
    }
   ],
   "source": [
    "df_gm_cluster_3_c4= df_gm_cluster_3.loc[df_gm_cluster_3['Commodity'] == 'Washers']\n",
    "gmcluster_3_c4 = df_gm_cluster_3_c4['GM%'].sum()\n",
    "gmpercent_cluster_3_c4= gmcluster_3_c4/gm_total_3\n",
    "print ('Washers Contribution (GM): ',gmpercent_cluster_3_c4)"
   ]
  },
  {
   "cell_type": "code",
   "execution_count": 98,
   "metadata": {},
   "outputs": [
    {
     "name": "stdout",
     "output_type": "stream",
     "text": [
      "Bolts Contribution (Profit):  0.09940113322224982\n"
     ]
    }
   ],
   "source": [
    "df_profit_cluster_3_c1= df_gm_cluster_3.loc[df_gm_cluster_3['Commodity'] == 'Bolts']\n",
    "profitcluster_3_c1 = df_gm_cluster_3_c1['Profit'].sum()\n",
    "profitpercent_cluster_3_c1= profitcluster_3_c1/profit_total_3\n",
    "print ('Bolts Contribution (Profit): ',profitpercent_cluster_3_c1)"
   ]
  },
  {
   "cell_type": "code",
   "execution_count": 99,
   "metadata": {},
   "outputs": [
    {
     "name": "stdout",
     "output_type": "stream",
     "text": [
      "Nuts Contribution (Profit):  0.06360684745173407\n"
     ]
    }
   ],
   "source": [
    "df_profit_cluster_3_c2= df_gm_cluster_3.loc[df_gm_cluster_3['Commodity'] == 'Nuts']\n",
    "profitcluster_3_c2 = df_gm_cluster_3_c2['Profit'].sum()\n",
    "profitpercent_cluster_3_c2= profitcluster_3_c2/profit_total_3\n",
    "print ('Nuts Contribution (Profit): ',profitpercent_cluster_3_c2)"
   ]
  },
  {
   "cell_type": "code",
   "execution_count": 100,
   "metadata": {},
   "outputs": [
    {
     "name": "stdout",
     "output_type": "stream",
     "text": [
      "Studs Contribution (Profit):  0.06059378631275548\n"
     ]
    }
   ],
   "source": [
    "df_profit_cluster_3_c3= df_gm_cluster_3.loc[df_gm_cluster_3['Commodity'] == 'Studs']\n",
    "profitcluster_3_c3 = df_gm_cluster_3_c3['Profit'].sum()\n",
    "profitpercent_cluster_3_c3= profitcluster_3_c3/profit_total_3\n",
    "print ('Studs Contribution (Profit): ',profitpercent_cluster_3_c3)"
   ]
  },
  {
   "cell_type": "code",
   "execution_count": 101,
   "metadata": {},
   "outputs": [
    {
     "name": "stdout",
     "output_type": "stream",
     "text": [
      "Washers Contribution (Profit):  0.7763982330132606\n"
     ]
    }
   ],
   "source": [
    "df_profit_cluster_3_c4= df_gm_cluster_3.loc[df_gm_cluster_3['Commodity'] == 'Washers']\n",
    "profitcluster_3_c4 = df_gm_cluster_3_c4['Profit'].sum()\n",
    "profitpercent_cluster_3_c4= profitcluster_3_c4/profit_total_3\n",
    "print ('Washers Contribution (Profit): ',profitpercent_cluster_3_c4)"
   ]
  },
  {
   "cell_type": "code",
   "execution_count": 102,
   "metadata": {},
   "outputs": [
    {
     "data": {
      "image/png": "[encoded data removed]",
      "text/plain": [
       "<Figure size 360x360 with 1 Axes>"
      ]
     },
     "metadata": {},
     "output_type": "display_data"
    }
   ],
   "source": [
    "datac1 = [['Bolts', gmpercent_cluster_1_c1], ['Nuts', gmpercent_cluster_1_c2], ['Screws', gmpercent_cluster_1_c3],\n",
    "         ['Studs', gmpercent_cluster_1_c4], ['Washers', gmpercent_cluster_1_c5]]\n",
    "df_c1percent = pd.DataFrame(datac1, columns = ['Commodity', 'GM Contribution']) \n",
    "df_c1percent\n",
    "plot = df_c1percent.plot.pie(y='GM Contribution', autopct='%1.1f%%', labels = df_c1percent['Commodity'], figsize=(5, 5))"
   ]
  },
  {
   "cell_type": "code",
   "execution_count": 103,
   "metadata": {},
   "outputs": [
    {
     "data": {
      "image/png": "[encoded data removed]",
      "text/plain": [
       "<Figure size 360x360 with 1 Axes>"
      ]
     },
     "metadata": {},
     "output_type": "display_data"
    }
   ],
   "source": [
    "datac2 = [['Bolts', profitpercent_cluster_1_c1], ['Nuts', profitpercent_cluster_1_c2], ['Screws', profitpercent_cluster_1_c3],\n",
    "         ['Studs', profitpercent_cluster_1_c4], ['Washers', profitpercent_cluster_1_c5]]\n",
    "df_c2percent = pd.DataFrame(datac2, columns = ['Commodity', 'Profit Contribution']) \n",
    "df_c2percent\n",
    "plot = df_c2percent.plot.pie(y='Profit Contribution', autopct='%1.1f%%', labels = df_c2percent['Commodity'], figsize=(5, 5))"
   ]
  },
  {
   "cell_type": "code",
   "execution_count": 104,
   "metadata": {},
   "outputs": [
    {
     "data": {
      "image/png": "[encoded data removed]",
      "text/plain": [
       "<Figure size 360x360 with 1 Axes>"
      ]
     },
     "metadata": {},
     "output_type": "display_data"
    }
   ],
   "source": [
    "datac3 = [['Bolts', gmpercent_cluster_3_c1], ['Nuts', gmpercent_cluster_3_c2],\n",
    "         ['Studs', gmpercent_cluster_3_c3], ['Washers', gmpercent_cluster_3_c4]]\n",
    "df_c3percent = pd.DataFrame(datac3, columns = ['Commodity', 'GM Contribution']) \n",
    "df_c3percent\n",
    "plot = df_c3percent.plot.pie(y='GM Contribution', autopct='%1.1f%%', labels = df_c3percent['Commodity'], figsize=(5, 5))"
   ]
  },
  {
   "cell_type": "code",
   "execution_count": 105,
   "metadata": {},
   "outputs": [
    {
     "data": {
      "image/png": "[encoded data removed]",
      "text/plain": [
       "<Figure size 360x360 with 1 Axes>"
      ]
     },
     "metadata": {},
     "output_type": "display_data"
    }
   ],
   "source": [
    "datac4 = [['Bolts', profitpercent_cluster_3_c1], ['Nuts', profitpercent_cluster_3_c2],\n",
    "         ['Studs', profitpercent_cluster_3_c3], ['Washers', profitpercent_cluster_3_c4]]\n",
    "df_c4percent = pd.DataFrame(datac4, columns = ['Commodity', 'Profit Contribution']) \n",
    "df_c4percent\n",
    "plot = df_c4percent.plot.pie(y='Profit Contribution', autopct='%1.1f%%', labels = df_c4percent['Commodity'], figsize=(5, 5))"
   ]
  },
  {
   "cell_type": "code",
   "execution_count": 106,
   "metadata": {},
   "outputs": [],
   "source": [
    "cluster_labels = pd.DataFrame(kmeans2.labels_)"
   ]
  },
  {
   "cell_type": "code",
   "execution_count": 107,
   "metadata": {},
   "outputs": [],
   "source": [
    "final_df = pd.concat([df_merged, cluster_labels], axis=1)"
   ]
  },
  {
   "cell_type": "code",
   "execution_count": 108,
   "metadata": {},
   "outputs": [
    {
     "data": {
      "text/html": [
       "<div>\n",
       "<style scoped>\n",
       "    .dataframe tbody tr th:only-of-type {\n",
       "        vertical-align: middle;\n",
       "    }\n",
       "\n",
       "    .dataframe tbody tr th {\n",
       "        vertical-align: top;\n",
       "    }\n",
       "\n",
       "    .dataframe thead th {\n",
       "        text-align: right;\n",
       "    }\n",
       "</style>\n",
       "<table border=\"1\" class=\"dataframe\">\n",
       "  <thead>\n",
       "    <tr style=\"text-align: right;\">\n",
       "      <th></th>\n",
       "      <th>StockCode</th>\n",
       "      <th>Commodity</th>\n",
       "      <th>InvoiceNo</th>\n",
       "      <th>Invoice Date</th>\n",
       "      <th>CustomerID</th>\n",
       "      <th>GM%</th>\n",
       "      <th>REGION</th>\n",
       "      <th>Ext-Price</th>\n",
       "      <th>EXT COST</th>\n",
       "      <th>Profit</th>\n",
       "      <th>0</th>\n",
       "    </tr>\n",
       "  </thead>\n",
       "  <tbody>\n",
       "    <tr>\n",
       "      <th>0</th>\n",
       "      <td>20668</td>\n",
       "      <td>1</td>\n",
       "      <td>536390</td>\n",
       "      <td>2016-12-01 00:00:00</td>\n",
       "      <td>17511</td>\n",
       "      <td>-0.004235</td>\n",
       "      <td>SOUTH</td>\n",
       "      <td>13.196560</td>\n",
       "      <td>13.252443</td>\n",
       "      <td>-0.055883</td>\n",
       "      <td>0</td>\n",
       "    </tr>\n",
       "    <tr>\n",
       "      <th>1</th>\n",
       "      <td>20668</td>\n",
       "      <td>1</td>\n",
       "      <td>536796</td>\n",
       "      <td>2016-12-02 00:00:00</td>\n",
       "      <td>15574</td>\n",
       "      <td>-0.009293</td>\n",
       "      <td>NORTH</td>\n",
       "      <td>29.290928</td>\n",
       "      <td>29.563142</td>\n",
       "      <td>-0.272214</td>\n",
       "      <td>0</td>\n",
       "    </tr>\n",
       "    <tr>\n",
       "      <th>2</th>\n",
       "      <td>20668</td>\n",
       "      <td>1</td>\n",
       "      <td>536813</td>\n",
       "      <td>2016-12-02 00:00:00</td>\n",
       "      <td>15646</td>\n",
       "      <td>0.000303</td>\n",
       "      <td>NORTH</td>\n",
       "      <td>12.236736</td>\n",
       "      <td>12.233024</td>\n",
       "      <td>0.003712</td>\n",
       "      <td>0</td>\n",
       "    </tr>\n",
       "    <tr>\n",
       "      <th>3</th>\n",
       "      <td>20668</td>\n",
       "      <td>1</td>\n",
       "      <td>536975</td>\n",
       "      <td>2016-12-03 00:00:00</td>\n",
       "      <td>14911</td>\n",
       "      <td>-0.003594</td>\n",
       "      <td>NORTH</td>\n",
       "      <td>12.189216</td>\n",
       "      <td>12.233024</td>\n",
       "      <td>-0.043808</td>\n",
       "      <td>0</td>\n",
       "    </tr>\n",
       "    <tr>\n",
       "      <th>4</th>\n",
       "      <td>20668</td>\n",
       "      <td>1</td>\n",
       "      <td>536876</td>\n",
       "      <td>2016-12-03 00:00:00</td>\n",
       "      <td>13576</td>\n",
       "      <td>0.002206</td>\n",
       "      <td>NORTH</td>\n",
       "      <td>13.281736</td>\n",
       "      <td>13.252443</td>\n",
       "      <td>0.029293</td>\n",
       "      <td>0</td>\n",
       "    </tr>\n",
       "  </tbody>\n",
       "</table>\n",
       "</div>"
      ],
      "text/plain": [
       "  StockCode  Commodity InvoiceNo         Invoice Date  CustomerID       GM%  \\\n",
       "0     20668          1    536390  2016-12-01 00:00:00       17511 -0.004235   \n",
       "1     20668          1    536796  2016-12-02 00:00:00       15574 -0.009293   \n",
       "2     20668          1    536813  2016-12-02 00:00:00       15646  0.000303   \n",
       "3     20668          1    536975  2016-12-03 00:00:00       14911 -0.003594   \n",
       "4     20668          1    536876  2016-12-03 00:00:00       13576  0.002206   \n",
       "\n",
       "  REGION  Ext-Price   EXT COST    Profit  0  \n",
       "0  SOUTH  13.196560  13.252443 -0.055883  0  \n",
       "1  NORTH  29.290928  29.563142 -0.272214  0  \n",
       "2  NORTH  12.236736  12.233024  0.003712  0  \n",
       "3  NORTH  12.189216  12.233024 -0.043808  0  \n",
       "4  NORTH  13.281736  13.252443  0.029293  0  "
      ]
     },
     "execution_count": 108,
     "metadata": {},
     "output_type": "execute_result"
    }
   ],
   "source": [
    "final_df.head()"
   ]
  },
  {
   "cell_type": "code",
   "execution_count": 109,
   "metadata": {},
   "outputs": [],
   "source": [
    "final_df.rename(columns = {0:'Cluster'}, inplace = True) "
   ]
  },
  {
   "cell_type": "code",
   "execution_count": 110,
   "metadata": {},
   "outputs": [],
   "source": [
    "final_df['Cluster'] = final_df['Cluster'].astype('category')"
   ]
  },
  {
   "cell_type": "code",
   "execution_count": 111,
   "metadata": {},
   "outputs": [],
   "source": [
    "final_df['Cluster'] = pd.factorize(final_df['Cluster'], sort=True)[0] + 1 "
   ]
  },
  {
   "cell_type": "code",
   "execution_count": 112,
   "metadata": {},
   "outputs": [
    {
     "data": {
      "text/html": [
       "<div>\n",
       "<style scoped>\n",
       "    .dataframe tbody tr th:only-of-type {\n",
       "        vertical-align: middle;\n",
       "    }\n",
       "\n",
       "    .dataframe tbody tr th {\n",
       "        vertical-align: top;\n",
       "    }\n",
       "\n",
       "    .dataframe thead th {\n",
       "        text-align: right;\n",
       "    }\n",
       "</style>\n",
       "<table border=\"1\" class=\"dataframe\">\n",
       "  <thead>\n",
       "    <tr style=\"text-align: right;\">\n",
       "      <th></th>\n",
       "      <th>StockCode</th>\n",
       "      <th>Commodity</th>\n",
       "      <th>InvoiceNo</th>\n",
       "      <th>Invoice Date</th>\n",
       "      <th>CustomerID</th>\n",
       "      <th>GM%</th>\n",
       "      <th>REGION</th>\n",
       "      <th>Ext-Price</th>\n",
       "      <th>EXT COST</th>\n",
       "      <th>Profit</th>\n",
       "      <th>Cluster</th>\n",
       "    </tr>\n",
       "  </thead>\n",
       "  <tbody>\n",
       "    <tr>\n",
       "      <th>0</th>\n",
       "      <td>20668</td>\n",
       "      <td>1</td>\n",
       "      <td>536390</td>\n",
       "      <td>2016-12-01 00:00:00</td>\n",
       "      <td>17511</td>\n",
       "      <td>-0.004235</td>\n",
       "      <td>SOUTH</td>\n",
       "      <td>13.196560</td>\n",
       "      <td>13.252443</td>\n",
       "      <td>-0.055883</td>\n",
       "      <td>1</td>\n",
       "    </tr>\n",
       "    <tr>\n",
       "      <th>1</th>\n",
       "      <td>20668</td>\n",
       "      <td>1</td>\n",
       "      <td>536796</td>\n",
       "      <td>2016-12-02 00:00:00</td>\n",
       "      <td>15574</td>\n",
       "      <td>-0.009293</td>\n",
       "      <td>NORTH</td>\n",
       "      <td>29.290928</td>\n",
       "      <td>29.563142</td>\n",
       "      <td>-0.272214</td>\n",
       "      <td>1</td>\n",
       "    </tr>\n",
       "    <tr>\n",
       "      <th>2</th>\n",
       "      <td>20668</td>\n",
       "      <td>1</td>\n",
       "      <td>536813</td>\n",
       "      <td>2016-12-02 00:00:00</td>\n",
       "      <td>15646</td>\n",
       "      <td>0.000303</td>\n",
       "      <td>NORTH</td>\n",
       "      <td>12.236736</td>\n",
       "      <td>12.233024</td>\n",
       "      <td>0.003712</td>\n",
       "      <td>1</td>\n",
       "    </tr>\n",
       "    <tr>\n",
       "      <th>3</th>\n",
       "      <td>20668</td>\n",
       "      <td>1</td>\n",
       "      <td>536975</td>\n",
       "      <td>2016-12-03 00:00:00</td>\n",
       "      <td>14911</td>\n",
       "      <td>-0.003594</td>\n",
       "      <td>NORTH</td>\n",
       "      <td>12.189216</td>\n",
       "      <td>12.233024</td>\n",
       "      <td>-0.043808</td>\n",
       "      <td>1</td>\n",
       "    </tr>\n",
       "    <tr>\n",
       "      <th>4</th>\n",
       "      <td>20668</td>\n",
       "      <td>1</td>\n",
       "      <td>536876</td>\n",
       "      <td>2016-12-03 00:00:00</td>\n",
       "      <td>13576</td>\n",
       "      <td>0.002206</td>\n",
       "      <td>NORTH</td>\n",
       "      <td>13.281736</td>\n",
       "      <td>13.252443</td>\n",
       "      <td>0.029293</td>\n",
       "      <td>1</td>\n",
       "    </tr>\n",
       "  </tbody>\n",
       "</table>\n",
       "</div>"
      ],
      "text/plain": [
       "  StockCode  Commodity InvoiceNo         Invoice Date  CustomerID       GM%  \\\n",
       "0     20668          1    536390  2016-12-01 00:00:00       17511 -0.004235   \n",
       "1     20668          1    536796  2016-12-02 00:00:00       15574 -0.009293   \n",
       "2     20668          1    536813  2016-12-02 00:00:00       15646  0.000303   \n",
       "3     20668          1    536975  2016-12-03 00:00:00       14911 -0.003594   \n",
       "4     20668          1    536876  2016-12-03 00:00:00       13576  0.002206   \n",
       "\n",
       "  REGION  Ext-Price   EXT COST    Profit  Cluster  \n",
       "0  SOUTH  13.196560  13.252443 -0.055883        1  \n",
       "1  NORTH  29.290928  29.563142 -0.272214        1  \n",
       "2  NORTH  12.236736  12.233024  0.003712        1  \n",
       "3  NORTH  12.189216  12.233024 -0.043808        1  \n",
       "4  NORTH  13.281736  13.252443  0.029293        1  "
      ]
     },
     "execution_count": 112,
     "metadata": {},
     "output_type": "execute_result"
    }
   ],
   "source": [
    "final_df.head()"
   ]
  },
  {
   "cell_type": "code",
   "execution_count": 113,
   "metadata": {},
   "outputs": [
    {
     "data": {
      "text/plain": [
       "1    554405\n",
       "3        10\n",
       "2         2\n",
       "Name: Cluster, dtype: int64"
      ]
     },
     "execution_count": 113,
     "metadata": {},
     "output_type": "execute_result"
    }
   ],
   "source": [
    "final_df['Cluster'].value_counts()"
   ]
  },
  {
   "cell_type": "code",
   "execution_count": 114,
   "metadata": {},
   "outputs": [
    {
     "name": "stdout",
     "output_type": "stream",
     "text": [
      "<class 'pandas.core.frame.DataFrame'>\n",
      "Int64Index: 554417 entries, 0 to 554416\n",
      "Data columns (total 11 columns):\n",
      "StockCode       554417 non-null object\n",
      "Commodity       554417 non-null int64\n",
      "InvoiceNo       554417 non-null object\n",
      "Invoice Date    554417 non-null object\n",
      "CustomerID      554417 non-null int64\n",
      "GM%             554417 non-null float64\n",
      "REGION          554417 non-null object\n",
      "Ext-Price       554417 non-null float64\n",
      "EXT COST        554417 non-null float64\n",
      "Profit          554417 non-null float64\n",
      "Cluster         554417 non-null int64\n",
      "dtypes: float64(4), int64(3), object(4)\n",
      "memory usage: 50.8+ MB\n"
     ]
    }
   ],
   "source": [
    "final_df.info()"
   ]
  },
  {
   "cell_type": "code",
   "execution_count": 115,
   "metadata": {},
   "outputs": [
    {
     "data": {
      "text/html": [
       "<div>\n",
       "<style scoped>\n",
       "    .dataframe tbody tr th:only-of-type {\n",
       "        vertical-align: middle;\n",
       "    }\n",
       "\n",
       "    .dataframe tbody tr th {\n",
       "        vertical-align: top;\n",
       "    }\n",
       "\n",
       "    .dataframe thead th {\n",
       "        text-align: right;\n",
       "    }\n",
       "</style>\n",
       "<table border=\"1\" class=\"dataframe\">\n",
       "  <thead>\n",
       "    <tr style=\"text-align: right;\">\n",
       "      <th></th>\n",
       "      <th>StockCode</th>\n",
       "      <th>Commodity</th>\n",
       "      <th>InvoiceNo</th>\n",
       "      <th>Invoice Date</th>\n",
       "      <th>CustomerID</th>\n",
       "      <th>GM%</th>\n",
       "      <th>REGION</th>\n",
       "      <th>Ext-Price</th>\n",
       "      <th>EXT COST</th>\n",
       "      <th>Profit</th>\n",
       "      <th>Cluster</th>\n",
       "    </tr>\n",
       "  </thead>\n",
       "  <tbody>\n",
       "    <tr>\n",
       "      <th>0</th>\n",
       "      <td>20668</td>\n",
       "      <td>1</td>\n",
       "      <td>536390</td>\n",
       "      <td>2016-12-01 00:00:00</td>\n",
       "      <td>17511</td>\n",
       "      <td>-0.004235</td>\n",
       "      <td>SOUTH</td>\n",
       "      <td>13.196560</td>\n",
       "      <td>13.252443</td>\n",
       "      <td>-0.055883</td>\n",
       "      <td>1</td>\n",
       "    </tr>\n",
       "    <tr>\n",
       "      <th>1</th>\n",
       "      <td>20668</td>\n",
       "      <td>1</td>\n",
       "      <td>536796</td>\n",
       "      <td>2016-12-02 00:00:00</td>\n",
       "      <td>15574</td>\n",
       "      <td>-0.009293</td>\n",
       "      <td>NORTH</td>\n",
       "      <td>29.290928</td>\n",
       "      <td>29.563142</td>\n",
       "      <td>-0.272214</td>\n",
       "      <td>1</td>\n",
       "    </tr>\n",
       "    <tr>\n",
       "      <th>2</th>\n",
       "      <td>20668</td>\n",
       "      <td>1</td>\n",
       "      <td>536813</td>\n",
       "      <td>2016-12-02 00:00:00</td>\n",
       "      <td>15646</td>\n",
       "      <td>0.000303</td>\n",
       "      <td>NORTH</td>\n",
       "      <td>12.236736</td>\n",
       "      <td>12.233024</td>\n",
       "      <td>0.003712</td>\n",
       "      <td>1</td>\n",
       "    </tr>\n",
       "    <tr>\n",
       "      <th>3</th>\n",
       "      <td>20668</td>\n",
       "      <td>1</td>\n",
       "      <td>536975</td>\n",
       "      <td>2016-12-03 00:00:00</td>\n",
       "      <td>14911</td>\n",
       "      <td>-0.003594</td>\n",
       "      <td>NORTH</td>\n",
       "      <td>12.189216</td>\n",
       "      <td>12.233024</td>\n",
       "      <td>-0.043808</td>\n",
       "      <td>1</td>\n",
       "    </tr>\n",
       "    <tr>\n",
       "      <th>4</th>\n",
       "      <td>20668</td>\n",
       "      <td>1</td>\n",
       "      <td>536876</td>\n",
       "      <td>2016-12-03 00:00:00</td>\n",
       "      <td>13576</td>\n",
       "      <td>0.002206</td>\n",
       "      <td>NORTH</td>\n",
       "      <td>13.281736</td>\n",
       "      <td>13.252443</td>\n",
       "      <td>0.029293</td>\n",
       "      <td>1</td>\n",
       "    </tr>\n",
       "  </tbody>\n",
       "</table>\n",
       "</div>"
      ],
      "text/plain": [
       "  StockCode  Commodity InvoiceNo         Invoice Date  CustomerID       GM%  \\\n",
       "0     20668          1    536390  2016-12-01 00:00:00       17511 -0.004235   \n",
       "1     20668          1    536796  2016-12-02 00:00:00       15574 -0.009293   \n",
       "2     20668          1    536813  2016-12-02 00:00:00       15646  0.000303   \n",
       "3     20668          1    536975  2016-12-03 00:00:00       14911 -0.003594   \n",
       "4     20668          1    536876  2016-12-03 00:00:00       13576  0.002206   \n",
       "\n",
       "  REGION  Ext-Price   EXT COST    Profit  Cluster  \n",
       "0  SOUTH  13.196560  13.252443 -0.055883        1  \n",
       "1  NORTH  29.290928  29.563142 -0.272214        1  \n",
       "2  NORTH  12.236736  12.233024  0.003712        1  \n",
       "3  NORTH  12.189216  12.233024 -0.043808        1  \n",
       "4  NORTH  13.281736  13.252443  0.029293        1  "
      ]
     },
     "execution_count": 115,
     "metadata": {},
     "output_type": "execute_result"
    }
   ],
   "source": [
    "final_df.head()"
   ]
  },
  {
   "cell_type": "code",
   "execution_count": 116,
   "metadata": {},
   "outputs": [],
   "source": [
    "final_df['Cluster'] = final_df['Cluster'].replace({1: 'Must Invest In', 2: 'Hold Off For Now', 3: 'Hold Off'})"
   ]
  },
  {
   "cell_type": "code",
   "execution_count": 117,
   "metadata": {},
   "outputs": [],
   "source": [
    "final_df['Commodity'] = final_df['Commodity'].replace({1: 'Bolts', 2: 'Nuts', 3: 'Screws', 4: 'Studs', 5: 'Washers'})"
   ]
  },
  {
   "cell_type": "code",
   "execution_count": 118,
   "metadata": {},
   "outputs": [
    {
     "data": {
      "text/html": [
       "<div>\n",
       "<style scoped>\n",
       "    .dataframe tbody tr th:only-of-type {\n",
       "        vertical-align: middle;\n",
       "    }\n",
       "\n",
       "    .dataframe tbody tr th {\n",
       "        vertical-align: top;\n",
       "    }\n",
       "\n",
       "    .dataframe thead th {\n",
       "        text-align: right;\n",
       "    }\n",
       "</style>\n",
       "<table border=\"1\" class=\"dataframe\">\n",
       "  <thead>\n",
       "    <tr style=\"text-align: right;\">\n",
       "      <th></th>\n",
       "      <th>StockCode</th>\n",
       "      <th>Commodity</th>\n",
       "      <th>InvoiceNo</th>\n",
       "      <th>Invoice Date</th>\n",
       "      <th>CustomerID</th>\n",
       "      <th>GM%</th>\n",
       "      <th>REGION</th>\n",
       "      <th>Ext-Price</th>\n",
       "      <th>EXT COST</th>\n",
       "      <th>Profit</th>\n",
       "      <th>Cluster</th>\n",
       "    </tr>\n",
       "  </thead>\n",
       "  <tbody>\n",
       "    <tr>\n",
       "      <th>0</th>\n",
       "      <td>20668</td>\n",
       "      <td>Bolts</td>\n",
       "      <td>536390</td>\n",
       "      <td>2016-12-01 00:00:00</td>\n",
       "      <td>17511</td>\n",
       "      <td>-0.004235</td>\n",
       "      <td>SOUTH</td>\n",
       "      <td>13.196560</td>\n",
       "      <td>13.252443</td>\n",
       "      <td>-0.055883</td>\n",
       "      <td>Must Invest In</td>\n",
       "    </tr>\n",
       "    <tr>\n",
       "      <th>1</th>\n",
       "      <td>20668</td>\n",
       "      <td>Bolts</td>\n",
       "      <td>536796</td>\n",
       "      <td>2016-12-02 00:00:00</td>\n",
       "      <td>15574</td>\n",
       "      <td>-0.009293</td>\n",
       "      <td>NORTH</td>\n",
       "      <td>29.290928</td>\n",
       "      <td>29.563142</td>\n",
       "      <td>-0.272214</td>\n",
       "      <td>Must Invest In</td>\n",
       "    </tr>\n",
       "    <tr>\n",
       "      <th>2</th>\n",
       "      <td>20668</td>\n",
       "      <td>Bolts</td>\n",
       "      <td>536813</td>\n",
       "      <td>2016-12-02 00:00:00</td>\n",
       "      <td>15646</td>\n",
       "      <td>0.000303</td>\n",
       "      <td>NORTH</td>\n",
       "      <td>12.236736</td>\n",
       "      <td>12.233024</td>\n",
       "      <td>0.003712</td>\n",
       "      <td>Must Invest In</td>\n",
       "    </tr>\n",
       "    <tr>\n",
       "      <th>3</th>\n",
       "      <td>20668</td>\n",
       "      <td>Bolts</td>\n",
       "      <td>536975</td>\n",
       "      <td>2016-12-03 00:00:00</td>\n",
       "      <td>14911</td>\n",
       "      <td>-0.003594</td>\n",
       "      <td>NORTH</td>\n",
       "      <td>12.189216</td>\n",
       "      <td>12.233024</td>\n",
       "      <td>-0.043808</td>\n",
       "      <td>Must Invest In</td>\n",
       "    </tr>\n",
       "    <tr>\n",
       "      <th>4</th>\n",
       "      <td>20668</td>\n",
       "      <td>Bolts</td>\n",
       "      <td>536876</td>\n",
       "      <td>2016-12-03 00:00:00</td>\n",
       "      <td>13576</td>\n",
       "      <td>0.002206</td>\n",
       "      <td>NORTH</td>\n",
       "      <td>13.281736</td>\n",
       "      <td>13.252443</td>\n",
       "      <td>0.029293</td>\n",
       "      <td>Must Invest In</td>\n",
       "    </tr>\n",
       "  </tbody>\n",
       "</table>\n",
       "</div>"
      ],
      "text/plain": [
       "  StockCode Commodity InvoiceNo         Invoice Date  CustomerID       GM%  \\\n",
       "0     20668     Bolts    536390  2016-12-01 00:00:00       17511 -0.004235   \n",
       "1     20668     Bolts    536796  2016-12-02 00:00:00       15574 -0.009293   \n",
       "2     20668     Bolts    536813  2016-12-02 00:00:00       15646  0.000303   \n",
       "3     20668     Bolts    536975  2016-12-03 00:00:00       14911 -0.003594   \n",
       "4     20668     Bolts    536876  2016-12-03 00:00:00       13576  0.002206   \n",
       "\n",
       "  REGION  Ext-Price   EXT COST    Profit         Cluster  \n",
       "0  SOUTH  13.196560  13.252443 -0.055883  Must Invest In  \n",
       "1  NORTH  29.290928  29.563142 -0.272214  Must Invest In  \n",
       "2  NORTH  12.236736  12.233024  0.003712  Must Invest In  \n",
       "3  NORTH  12.189216  12.233024 -0.043808  Must Invest In  \n",
       "4  NORTH  13.281736  13.252443  0.029293  Must Invest In  "
      ]
     },
     "execution_count": 118,
     "metadata": {},
     "output_type": "execute_result"
    }
   ],
   "source": [
    "final_df.head()"
   ]
  },
  {
   "cell_type": "code",
   "execution_count": 119,
   "metadata": {},
   "outputs": [],
   "source": [
    "final_df.to_csv('final_file.csv')"
   ]
  },
  {
   "cell_type": "code",
   "execution_count": 120,
   "metadata": {},
   "outputs": [
    {
     "data": {
      "text/html": [
       "<div>\n",
       "<style scoped>\n",
       "    .dataframe tbody tr th:only-of-type {\n",
       "        vertical-align: middle;\n",
       "    }\n",
       "\n",
       "    .dataframe tbody tr th {\n",
       "        vertical-align: top;\n",
       "    }\n",
       "\n",
       "    .dataframe thead th {\n",
       "        text-align: right;\n",
       "    }\n",
       "</style>\n",
       "<table border=\"1\" class=\"dataframe\">\n",
       "  <thead>\n",
       "    <tr style=\"text-align: right;\">\n",
       "      <th></th>\n",
       "      <th>StockCode</th>\n",
       "      <th>Commodity</th>\n",
       "      <th>InvoiceNo</th>\n",
       "      <th>Invoice Date</th>\n",
       "      <th>CustomerID</th>\n",
       "      <th>GM%</th>\n",
       "      <th>REGION</th>\n",
       "      <th>Ext-Price</th>\n",
       "      <th>EXT COST</th>\n",
       "      <th>Profit</th>\n",
       "      <th>Cluster</th>\n",
       "    </tr>\n",
       "  </thead>\n",
       "  <tbody>\n",
       "    <tr>\n",
       "      <th>0</th>\n",
       "      <td>20668</td>\n",
       "      <td>Bolts</td>\n",
       "      <td>536390</td>\n",
       "      <td>2016-12-01 00:00:00</td>\n",
       "      <td>17511</td>\n",
       "      <td>-0.004235</td>\n",
       "      <td>SOUTH</td>\n",
       "      <td>13.196560</td>\n",
       "      <td>13.252443</td>\n",
       "      <td>-0.055883</td>\n",
       "      <td>Must Invest In</td>\n",
       "    </tr>\n",
       "    <tr>\n",
       "      <th>1</th>\n",
       "      <td>20668</td>\n",
       "      <td>Bolts</td>\n",
       "      <td>536796</td>\n",
       "      <td>2016-12-02 00:00:00</td>\n",
       "      <td>15574</td>\n",
       "      <td>-0.009293</td>\n",
       "      <td>NORTH</td>\n",
       "      <td>29.290928</td>\n",
       "      <td>29.563142</td>\n",
       "      <td>-0.272214</td>\n",
       "      <td>Must Invest In</td>\n",
       "    </tr>\n",
       "    <tr>\n",
       "      <th>2</th>\n",
       "      <td>20668</td>\n",
       "      <td>Bolts</td>\n",
       "      <td>536813</td>\n",
       "      <td>2016-12-02 00:00:00</td>\n",
       "      <td>15646</td>\n",
       "      <td>0.000303</td>\n",
       "      <td>NORTH</td>\n",
       "      <td>12.236736</td>\n",
       "      <td>12.233024</td>\n",
       "      <td>0.003712</td>\n",
       "      <td>Must Invest In</td>\n",
       "    </tr>\n",
       "    <tr>\n",
       "      <th>3</th>\n",
       "      <td>20668</td>\n",
       "      <td>Bolts</td>\n",
       "      <td>536975</td>\n",
       "      <td>2016-12-03 00:00:00</td>\n",
       "      <td>14911</td>\n",
       "      <td>-0.003594</td>\n",
       "      <td>NORTH</td>\n",
       "      <td>12.189216</td>\n",
       "      <td>12.233024</td>\n",
       "      <td>-0.043808</td>\n",
       "      <td>Must Invest In</td>\n",
       "    </tr>\n",
       "    <tr>\n",
       "      <th>4</th>\n",
       "      <td>20668</td>\n",
       "      <td>Bolts</td>\n",
       "      <td>536876</td>\n",
       "      <td>2016-12-03 00:00:00</td>\n",
       "      <td>13576</td>\n",
       "      <td>0.002206</td>\n",
       "      <td>NORTH</td>\n",
       "      <td>13.281736</td>\n",
       "      <td>13.252443</td>\n",
       "      <td>0.029293</td>\n",
       "      <td>Must Invest In</td>\n",
       "    </tr>\n",
       "  </tbody>\n",
       "</table>\n",
       "</div>"
      ],
      "text/plain": [
       "  StockCode Commodity InvoiceNo         Invoice Date  CustomerID       GM%  \\\n",
       "0     20668     Bolts    536390  2016-12-01 00:00:00       17511 -0.004235   \n",
       "1     20668     Bolts    536796  2016-12-02 00:00:00       15574 -0.009293   \n",
       "2     20668     Bolts    536813  2016-12-02 00:00:00       15646  0.000303   \n",
       "3     20668     Bolts    536975  2016-12-03 00:00:00       14911 -0.003594   \n",
       "4     20668     Bolts    536876  2016-12-03 00:00:00       13576  0.002206   \n",
       "\n",
       "  REGION  Ext-Price   EXT COST    Profit         Cluster  \n",
       "0  SOUTH  13.196560  13.252443 -0.055883  Must Invest In  \n",
       "1  NORTH  29.290928  29.563142 -0.272214  Must Invest In  \n",
       "2  NORTH  12.236736  12.233024  0.003712  Must Invest In  \n",
       "3  NORTH  12.189216  12.233024 -0.043808  Must Invest In  \n",
       "4  NORTH  13.281736  13.252443  0.029293  Must Invest In  "
      ]
     },
     "execution_count": 120,
     "metadata": {},
     "output_type": "execute_result"
    }
   ],
   "source": [
    "final_df.head()"
   ]
  },
  {
   "cell_type": "code",
   "execution_count": 121,
   "metadata": {},
   "outputs": [],
   "source": [
    "data1 = [['Must Invest In', gm_total_1], ['Hold Off For Now', gm_total_2], ['Hold Off', gm_total_3]]"
   ]
  },
  {
   "cell_type": "code",
   "execution_count": 122,
   "metadata": {},
   "outputs": [
    {
     "data": {
      "text/html": [
       "<div>\n",
       "<style scoped>\n",
       "    .dataframe tbody tr th:only-of-type {\n",
       "        vertical-align: middle;\n",
       "    }\n",
       "\n",
       "    .dataframe tbody tr th {\n",
       "        vertical-align: top;\n",
       "    }\n",
       "\n",
       "    .dataframe thead th {\n",
       "        text-align: right;\n",
       "    }\n",
       "</style>\n",
       "<table border=\"1\" class=\"dataframe\">\n",
       "  <thead>\n",
       "    <tr style=\"text-align: right;\">\n",
       "      <th></th>\n",
       "      <th>Cluster</th>\n",
       "      <th>GM Contribution</th>\n",
       "    </tr>\n",
       "  </thead>\n",
       "  <tbody>\n",
       "    <tr>\n",
       "      <th>0</th>\n",
       "      <td>Must Invest In</td>\n",
       "      <td>41814.578163</td>\n",
       "    </tr>\n",
       "    <tr>\n",
       "      <th>1</th>\n",
       "      <td>Hold Off For Now</td>\n",
       "      <td>1.670093</td>\n",
       "    </tr>\n",
       "    <tr>\n",
       "      <th>2</th>\n",
       "      <td>Hold Off</td>\n",
       "      <td>5.255940</td>\n",
       "    </tr>\n",
       "  </tbody>\n",
       "</table>\n",
       "</div>"
      ],
      "text/plain": [
       "            Cluster  GM Contribution\n",
       "0    Must Invest In     41814.578163\n",
       "1  Hold Off For Now         1.670093\n",
       "2          Hold Off         5.255940"
      ]
     },
     "execution_count": 122,
     "metadata": {},
     "output_type": "execute_result"
    }
   ],
   "source": [
    "df_percent = pd.DataFrame(data1, columns = ['Cluster', 'GM Contribution']) \n",
    "df_percent"
   ]
  },
  {
   "cell_type": "code",
   "execution_count": 123,
   "metadata": {},
   "outputs": [],
   "source": [
    "data2 = [['Must Invest In', profit_total_1], ['Hold Off For Now', profit_total_2], ['Hold Off', profit_total_3]]"
   ]
  },
  {
   "cell_type": "code",
   "execution_count": 124,
   "metadata": {},
   "outputs": [
    {
     "data": {
      "text/html": [
       "<div>\n",
       "<style scoped>\n",
       "    .dataframe tbody tr th:only-of-type {\n",
       "        vertical-align: middle;\n",
       "    }\n",
       "\n",
       "    .dataframe tbody tr th {\n",
       "        vertical-align: top;\n",
       "    }\n",
       "\n",
       "    .dataframe thead th {\n",
       "        text-align: right;\n",
       "    }\n",
       "</style>\n",
       "<table border=\"1\" class=\"dataframe\">\n",
       "  <thead>\n",
       "    <tr style=\"text-align: right;\">\n",
       "      <th></th>\n",
       "      <th>Cluster</th>\n",
       "      <th>Profit Contribution</th>\n",
       "    </tr>\n",
       "  </thead>\n",
       "  <tbody>\n",
       "    <tr>\n",
       "      <th>0</th>\n",
       "      <td>Must Invest In</td>\n",
       "      <td>5.363225e+06</td>\n",
       "    </tr>\n",
       "    <tr>\n",
       "      <th>1</th>\n",
       "      <td>Hold Off For Now</td>\n",
       "      <td>9.073312e+05</td>\n",
       "    </tr>\n",
       "    <tr>\n",
       "      <th>2</th>\n",
       "      <td>Hold Off</td>\n",
       "      <td>1.088380e+06</td>\n",
       "    </tr>\n",
       "  </tbody>\n",
       "</table>\n",
       "</div>"
      ],
      "text/plain": [
       "            Cluster  Profit Contribution\n",
       "0    Must Invest In         5.363225e+06\n",
       "1  Hold Off For Now         9.073312e+05\n",
       "2          Hold Off         1.088380e+06"
      ]
     },
     "execution_count": 124,
     "metadata": {},
     "output_type": "execute_result"
    }
   ],
   "source": [
    "df_percent2 = pd.DataFrame(data2, columns = ['Cluster', 'Profit Contribution']) \n",
    "df_percent2"
   ]
  },
  {
   "cell_type": "code",
   "execution_count": 125,
   "metadata": {},
   "outputs": [
    {
     "data": {
      "image/png": "[encoded data removed]",
      "text/plain": [
       "<Figure size 360x360 with 1 Axes>"
      ]
     },
     "metadata": {},
     "output_type": "display_data"
    }
   ],
   "source": [
    "plot = df_percent2.plot.pie(y='Profit Contribution', autopct='%1.1f%%', labels=df_percent2['Cluster'], figsize=(5, 5))"
   ]
  },
  {
   "cell_type": "code",
   "execution_count": 126,
   "metadata": {},
   "outputs": [
    {
     "data": {
      "text/plain": [
       "<matplotlib.axes._subplots.AxesSubplot at 0x1e07aaec390>"
      ]
     },
     "execution_count": 126,
     "metadata": {},
     "output_type": "execute_result"
    },
    {
     "data": {
      "image/png": "[encoded data removed]",
      "text/plain": [
       "<Figure size 432x288 with 1 Axes>"
      ]
     },
     "metadata": {
      "needs_background": "light"
     },
     "output_type": "display_data"
    }
   ],
   "source": [
    "final_df['Commodity'].value_counts().plot(kind='bar')"
   ]
  }
 ],
 "metadata": {
  "kernelspec": {
   "display_name": "Python 3",
   "language": "python",
   "name": "python3"
  },
  "language_info": {
   "codemirror_mode": {
    "name": "ipython",
    "version": 3
   },
   "file_extension": ".py",
   "mimetype": "text/x-python",
   "name": "python",
   "nbconvert_exporter": "python",
   "pygments_lexer": "ipython3",
   "version": "3.7.3"
  }
 },
 "nbformat": 4,
 "nbformat_minor": 2
}
